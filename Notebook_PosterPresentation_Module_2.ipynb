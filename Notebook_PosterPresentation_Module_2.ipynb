{
 "cells": [
  {
   "cell_type": "markdown",
   "metadata": {},
   "source": [
    "***University of Bern***  \n",
    "***CAS Applied Data Science***  \n",
    "***2019/2020***\n",
    "\n",
    "***Simon Büchi***  \n",
    "***Michael Horn***\n",
    "***"
   ]
  },
  {
   "cell_type": "markdown",
   "metadata": {},
   "source": [
    "# Improvement of Wine Testing Procedures by Means of Statistical Analysis"
   ]
  },
  {
   "cell_type": "markdown",
   "metadata": {},
   "source": [
    "## Storyline"
   ]
  },
  {
   "cell_type": "markdown",
   "metadata": {},
   "source": [
    "We are a testing laboratory belonging to a regional surveillance authority. We are responsible for the correct declaration of goods. Since we are financed by taxpayers money, we have the responsibility to work as efficient as possible. "
   ]
  },
  {
   "cell_type": "markdown",
   "metadata": {},
   "source": [
    "One of the products that we have to monitor is wine. Single-varietal wines from our region are allowed to carry a state-recognized label. So far, we are using 13 different variables to test whether wine declarations are correct. We would like to reduce the amount of variables that we have to rise to a minimum, whithout losing anything in the accuracy of our testing."
   ]
  },
  {
   "cell_type": "markdown",
   "metadata": {},
   "source": [
    "We want to achieve this goal by means of statistical tests using laboratory samples of the three most common wine varieties. We hope to find some variables that allow us to clearly differentiate between the wine samples.\n",
    "***"
   ]
  },
  {
   "cell_type": "markdown",
   "metadata": {},
   "source": [
    "### Method"
   ]
  },
  {
   "cell_type": "markdown",
   "metadata": {},
   "source": [
    "We use the data set [Wine](http://archive.ics.uci.edu/ml/datasets/Wine) from the UCI Machine Learning Repository, which contains 178 observations with 13 variables each, divided into 3 varieties.\n",
    "\n",
    "We divide the data set of each wine variety into a reference data set (44 observations for variety 1, 51 observations for variety 2 and 43 observations for variety 3) and 2 trial data sets (20 observations each).\n",
    "\n",
    "We then perform descriptive statistics on the reference data set of each wine variety in order to get an idea about the data shape of all 13 variables. Afterwards we clarify the sort of data distribution for each variable and test whether there is equal variance in the datasets of the different wine varieties. We do this by means of statistical tests for Gaussian distribution (D'Agostino-Pearson test, Shapiro-Wilk test) and equal variance (Levene test, Bartlett test). This information allows us to chose the type of statistical test method required for sample differentiation.\n",
    "\n",
    "We afterwards perform appropriate tests for sample differentiation involving all variables. Thus, we want to estimate which variable is best suitable for the wine classification.\n",
    "\n",
    "After hopefully having found at least one appropriate variable, we do a proof of principle testing. We take a wine batch of known variety (trial data set 1) from one of our producers and test it against our reference data sets using only the optimal variable for differentiation found before.\n",
    "\n",
    "Finally, we challenge our outcome by simulating a fraud attempt. We use a new batch of wine (trial data set 2) with a certain declaration and test it against our reference samples. For these tests, we only rely on the variable found before. If this one variable is indeed suitable for sample differentiation, we should be able to unmask the fraud attempt.\n",
    "***"
   ]
  },
  {
   "cell_type": "markdown",
   "metadata": {},
   "source": [
    "### Outcome"
   ]
  },
  {
   "cell_type": "markdown",
   "metadata": {},
   "source": [
    "By identifying one or few variables for future testing, we can substantially reduce the time and money invested in the monitoring of the wine declaration.\n",
    "***"
   ]
  },
  {
   "cell_type": "markdown",
   "metadata": {},
   "source": [
    "# Implementation"
   ]
  },
  {
   "cell_type": "markdown",
   "metadata": {},
   "source": [
    "Load the libraries required for the analysis of the wine data set:"
   ]
  },
  {
   "cell_type": "code",
   "execution_count": 1,
   "metadata": {},
   "outputs": [],
   "source": [
    "import numpy as np\n",
    "import matplotlib.pyplot as plt\n",
    "import pandas as pd\n",
    "from scipy import stats"
   ]
  },
  {
   "cell_type": "markdown",
   "metadata": {},
   "source": [
    "## The Wine data set"
   ]
  },
  {
   "cell_type": "markdown",
   "metadata": {},
   "source": [
    "Load the wine data set and show the values in table form:"
   ]
  },
  {
   "cell_type": "code",
   "execution_count": 2,
   "metadata": {},
   "outputs": [
    {
     "data": {
      "text/html": [
       "<div>\n",
       "<style scoped>\n",
       "    .dataframe tbody tr th:only-of-type {\n",
       "        vertical-align: middle;\n",
       "    }\n",
       "\n",
       "    .dataframe tbody tr th {\n",
       "        vertical-align: top;\n",
       "    }\n",
       "\n",
       "    .dataframe thead th {\n",
       "        text-align: right;\n",
       "    }\n",
       "</style>\n",
       "<table border=\"1\" class=\"dataframe\">\n",
       "  <thead>\n",
       "    <tr style=\"text-align: right;\">\n",
       "      <th></th>\n",
       "      <th>Variety</th>\n",
       "      <th>Alcohol [%]</th>\n",
       "      <th>Malic acid [g/l]</th>\n",
       "      <th>Ash [g/l]</th>\n",
       "      <th>Alcalinity of ash [ml/l]</th>\n",
       "      <th>Magnesium [mg/l]</th>\n",
       "      <th>Total phenols [mg/l]</th>\n",
       "      <th>Flavonoids [mg/l]</th>\n",
       "      <th>Nonflavonoid phenols [mg/l]</th>\n",
       "      <th>Proanthocyanidins [mg/l]</th>\n",
       "      <th>Color intensity</th>\n",
       "      <th>Hue</th>\n",
       "      <th>OD280/OD315 of diluted wines</th>\n",
       "      <th>Proline [mg/l]</th>\n",
       "    </tr>\n",
       "  </thead>\n",
       "  <tbody>\n",
       "    <tr>\n",
       "      <th>0</th>\n",
       "      <td>1</td>\n",
       "      <td>14.23</td>\n",
       "      <td>1.71</td>\n",
       "      <td>2.43</td>\n",
       "      <td>15.6</td>\n",
       "      <td>127</td>\n",
       "      <td>2.80</td>\n",
       "      <td>3.06</td>\n",
       "      <td>0.28</td>\n",
       "      <td>2.29</td>\n",
       "      <td>5.640000</td>\n",
       "      <td>1.04</td>\n",
       "      <td>3.92</td>\n",
       "      <td>1065</td>\n",
       "    </tr>\n",
       "    <tr>\n",
       "      <th>1</th>\n",
       "      <td>1</td>\n",
       "      <td>13.20</td>\n",
       "      <td>1.78</td>\n",
       "      <td>2.14</td>\n",
       "      <td>11.2</td>\n",
       "      <td>100</td>\n",
       "      <td>2.65</td>\n",
       "      <td>2.76</td>\n",
       "      <td>0.26</td>\n",
       "      <td>1.28</td>\n",
       "      <td>4.380000</td>\n",
       "      <td>1.05</td>\n",
       "      <td>3.40</td>\n",
       "      <td>1050</td>\n",
       "    </tr>\n",
       "    <tr>\n",
       "      <th>2</th>\n",
       "      <td>1</td>\n",
       "      <td>13.16</td>\n",
       "      <td>2.36</td>\n",
       "      <td>2.67</td>\n",
       "      <td>18.6</td>\n",
       "      <td>101</td>\n",
       "      <td>2.80</td>\n",
       "      <td>3.24</td>\n",
       "      <td>0.30</td>\n",
       "      <td>2.81</td>\n",
       "      <td>5.680000</td>\n",
       "      <td>1.03</td>\n",
       "      <td>3.17</td>\n",
       "      <td>1185</td>\n",
       "    </tr>\n",
       "    <tr>\n",
       "      <th>3</th>\n",
       "      <td>1</td>\n",
       "      <td>14.37</td>\n",
       "      <td>1.95</td>\n",
       "      <td>2.50</td>\n",
       "      <td>16.8</td>\n",
       "      <td>113</td>\n",
       "      <td>3.85</td>\n",
       "      <td>3.49</td>\n",
       "      <td>0.24</td>\n",
       "      <td>2.18</td>\n",
       "      <td>7.800000</td>\n",
       "      <td>0.86</td>\n",
       "      <td>3.45</td>\n",
       "      <td>1480</td>\n",
       "    </tr>\n",
       "    <tr>\n",
       "      <th>4</th>\n",
       "      <td>1</td>\n",
       "      <td>13.24</td>\n",
       "      <td>2.59</td>\n",
       "      <td>2.87</td>\n",
       "      <td>21.0</td>\n",
       "      <td>118</td>\n",
       "      <td>2.80</td>\n",
       "      <td>2.69</td>\n",
       "      <td>0.39</td>\n",
       "      <td>1.82</td>\n",
       "      <td>4.320000</td>\n",
       "      <td>1.04</td>\n",
       "      <td>2.93</td>\n",
       "      <td>735</td>\n",
       "    </tr>\n",
       "    <tr>\n",
       "      <th>5</th>\n",
       "      <td>1</td>\n",
       "      <td>14.20</td>\n",
       "      <td>1.76</td>\n",
       "      <td>2.45</td>\n",
       "      <td>15.2</td>\n",
       "      <td>112</td>\n",
       "      <td>3.27</td>\n",
       "      <td>3.39</td>\n",
       "      <td>0.34</td>\n",
       "      <td>1.97</td>\n",
       "      <td>6.750000</td>\n",
       "      <td>1.05</td>\n",
       "      <td>2.85</td>\n",
       "      <td>1450</td>\n",
       "    </tr>\n",
       "    <tr>\n",
       "      <th>6</th>\n",
       "      <td>1</td>\n",
       "      <td>14.39</td>\n",
       "      <td>1.87</td>\n",
       "      <td>2.45</td>\n",
       "      <td>14.6</td>\n",
       "      <td>96</td>\n",
       "      <td>2.50</td>\n",
       "      <td>2.52</td>\n",
       "      <td>0.30</td>\n",
       "      <td>1.98</td>\n",
       "      <td>5.250000</td>\n",
       "      <td>1.02</td>\n",
       "      <td>3.58</td>\n",
       "      <td>1290</td>\n",
       "    </tr>\n",
       "    <tr>\n",
       "      <th>7</th>\n",
       "      <td>1</td>\n",
       "      <td>14.06</td>\n",
       "      <td>2.15</td>\n",
       "      <td>2.61</td>\n",
       "      <td>17.6</td>\n",
       "      <td>121</td>\n",
       "      <td>2.60</td>\n",
       "      <td>2.51</td>\n",
       "      <td>0.31</td>\n",
       "      <td>1.25</td>\n",
       "      <td>5.050000</td>\n",
       "      <td>1.06</td>\n",
       "      <td>3.58</td>\n",
       "      <td>1295</td>\n",
       "    </tr>\n",
       "    <tr>\n",
       "      <th>8</th>\n",
       "      <td>1</td>\n",
       "      <td>14.83</td>\n",
       "      <td>1.64</td>\n",
       "      <td>2.17</td>\n",
       "      <td>14.0</td>\n",
       "      <td>97</td>\n",
       "      <td>2.80</td>\n",
       "      <td>2.98</td>\n",
       "      <td>0.29</td>\n",
       "      <td>1.98</td>\n",
       "      <td>5.200000</td>\n",
       "      <td>1.08</td>\n",
       "      <td>2.85</td>\n",
       "      <td>1045</td>\n",
       "    </tr>\n",
       "    <tr>\n",
       "      <th>9</th>\n",
       "      <td>1</td>\n",
       "      <td>13.86</td>\n",
       "      <td>1.35</td>\n",
       "      <td>2.27</td>\n",
       "      <td>16.0</td>\n",
       "      <td>98</td>\n",
       "      <td>2.98</td>\n",
       "      <td>3.15</td>\n",
       "      <td>0.22</td>\n",
       "      <td>1.85</td>\n",
       "      <td>7.220000</td>\n",
       "      <td>1.01</td>\n",
       "      <td>3.55</td>\n",
       "      <td>1045</td>\n",
       "    </tr>\n",
       "    <tr>\n",
       "      <th>...</th>\n",
       "      <td>...</td>\n",
       "      <td>...</td>\n",
       "      <td>...</td>\n",
       "      <td>...</td>\n",
       "      <td>...</td>\n",
       "      <td>...</td>\n",
       "      <td>...</td>\n",
       "      <td>...</td>\n",
       "      <td>...</td>\n",
       "      <td>...</td>\n",
       "      <td>...</td>\n",
       "      <td>...</td>\n",
       "      <td>...</td>\n",
       "      <td>...</td>\n",
       "    </tr>\n",
       "    <tr>\n",
       "      <th>168</th>\n",
       "      <td>3</td>\n",
       "      <td>13.58</td>\n",
       "      <td>2.58</td>\n",
       "      <td>2.69</td>\n",
       "      <td>24.5</td>\n",
       "      <td>105</td>\n",
       "      <td>1.55</td>\n",
       "      <td>0.84</td>\n",
       "      <td>0.39</td>\n",
       "      <td>1.54</td>\n",
       "      <td>8.660000</td>\n",
       "      <td>0.74</td>\n",
       "      <td>1.80</td>\n",
       "      <td>750</td>\n",
       "    </tr>\n",
       "    <tr>\n",
       "      <th>169</th>\n",
       "      <td>3</td>\n",
       "      <td>13.40</td>\n",
       "      <td>4.60</td>\n",
       "      <td>2.86</td>\n",
       "      <td>25.0</td>\n",
       "      <td>112</td>\n",
       "      <td>1.98</td>\n",
       "      <td>0.96</td>\n",
       "      <td>0.27</td>\n",
       "      <td>1.11</td>\n",
       "      <td>8.500000</td>\n",
       "      <td>0.67</td>\n",
       "      <td>1.92</td>\n",
       "      <td>630</td>\n",
       "    </tr>\n",
       "    <tr>\n",
       "      <th>170</th>\n",
       "      <td>3</td>\n",
       "      <td>12.20</td>\n",
       "      <td>3.03</td>\n",
       "      <td>2.32</td>\n",
       "      <td>19.0</td>\n",
       "      <td>96</td>\n",
       "      <td>1.25</td>\n",
       "      <td>0.49</td>\n",
       "      <td>0.40</td>\n",
       "      <td>0.73</td>\n",
       "      <td>5.500000</td>\n",
       "      <td>0.66</td>\n",
       "      <td>1.83</td>\n",
       "      <td>510</td>\n",
       "    </tr>\n",
       "    <tr>\n",
       "      <th>171</th>\n",
       "      <td>3</td>\n",
       "      <td>12.77</td>\n",
       "      <td>2.39</td>\n",
       "      <td>2.28</td>\n",
       "      <td>19.5</td>\n",
       "      <td>86</td>\n",
       "      <td>1.39</td>\n",
       "      <td>0.51</td>\n",
       "      <td>0.48</td>\n",
       "      <td>0.64</td>\n",
       "      <td>9.899999</td>\n",
       "      <td>0.57</td>\n",
       "      <td>1.63</td>\n",
       "      <td>470</td>\n",
       "    </tr>\n",
       "    <tr>\n",
       "      <th>172</th>\n",
       "      <td>3</td>\n",
       "      <td>14.16</td>\n",
       "      <td>2.51</td>\n",
       "      <td>2.48</td>\n",
       "      <td>20.0</td>\n",
       "      <td>91</td>\n",
       "      <td>1.68</td>\n",
       "      <td>0.70</td>\n",
       "      <td>0.44</td>\n",
       "      <td>1.24</td>\n",
       "      <td>9.700000</td>\n",
       "      <td>0.62</td>\n",
       "      <td>1.71</td>\n",
       "      <td>660</td>\n",
       "    </tr>\n",
       "    <tr>\n",
       "      <th>173</th>\n",
       "      <td>3</td>\n",
       "      <td>13.71</td>\n",
       "      <td>5.65</td>\n",
       "      <td>2.45</td>\n",
       "      <td>20.5</td>\n",
       "      <td>95</td>\n",
       "      <td>1.68</td>\n",
       "      <td>0.61</td>\n",
       "      <td>0.52</td>\n",
       "      <td>1.06</td>\n",
       "      <td>7.700000</td>\n",
       "      <td>0.64</td>\n",
       "      <td>1.74</td>\n",
       "      <td>740</td>\n",
       "    </tr>\n",
       "    <tr>\n",
       "      <th>174</th>\n",
       "      <td>3</td>\n",
       "      <td>13.40</td>\n",
       "      <td>3.91</td>\n",
       "      <td>2.48</td>\n",
       "      <td>23.0</td>\n",
       "      <td>102</td>\n",
       "      <td>1.80</td>\n",
       "      <td>0.75</td>\n",
       "      <td>0.43</td>\n",
       "      <td>1.41</td>\n",
       "      <td>7.300000</td>\n",
       "      <td>0.70</td>\n",
       "      <td>1.56</td>\n",
       "      <td>750</td>\n",
       "    </tr>\n",
       "    <tr>\n",
       "      <th>175</th>\n",
       "      <td>3</td>\n",
       "      <td>13.27</td>\n",
       "      <td>4.28</td>\n",
       "      <td>2.26</td>\n",
       "      <td>20.0</td>\n",
       "      <td>120</td>\n",
       "      <td>1.59</td>\n",
       "      <td>0.69</td>\n",
       "      <td>0.43</td>\n",
       "      <td>1.35</td>\n",
       "      <td>10.200000</td>\n",
       "      <td>0.59</td>\n",
       "      <td>1.56</td>\n",
       "      <td>835</td>\n",
       "    </tr>\n",
       "    <tr>\n",
       "      <th>176</th>\n",
       "      <td>3</td>\n",
       "      <td>13.17</td>\n",
       "      <td>2.59</td>\n",
       "      <td>2.37</td>\n",
       "      <td>20.0</td>\n",
       "      <td>120</td>\n",
       "      <td>1.65</td>\n",
       "      <td>0.68</td>\n",
       "      <td>0.53</td>\n",
       "      <td>1.46</td>\n",
       "      <td>9.300000</td>\n",
       "      <td>0.60</td>\n",
       "      <td>1.62</td>\n",
       "      <td>840</td>\n",
       "    </tr>\n",
       "    <tr>\n",
       "      <th>177</th>\n",
       "      <td>3</td>\n",
       "      <td>14.13</td>\n",
       "      <td>4.10</td>\n",
       "      <td>2.74</td>\n",
       "      <td>24.5</td>\n",
       "      <td>96</td>\n",
       "      <td>2.05</td>\n",
       "      <td>0.76</td>\n",
       "      <td>0.56</td>\n",
       "      <td>1.35</td>\n",
       "      <td>9.200000</td>\n",
       "      <td>0.61</td>\n",
       "      <td>1.60</td>\n",
       "      <td>560</td>\n",
       "    </tr>\n",
       "  </tbody>\n",
       "</table>\n",
       "<p>178 rows × 14 columns</p>\n",
       "</div>"
      ],
      "text/plain": [
       "    Variety  Alcohol [%]  Malic acid [g/l]  Ash [g/l]  \\\n",
       "0         1        14.23              1.71       2.43   \n",
       "1         1        13.20              1.78       2.14   \n",
       "2         1        13.16              2.36       2.67   \n",
       "3         1        14.37              1.95       2.50   \n",
       "4         1        13.24              2.59       2.87   \n",
       "5         1        14.20              1.76       2.45   \n",
       "6         1        14.39              1.87       2.45   \n",
       "7         1        14.06              2.15       2.61   \n",
       "8         1        14.83              1.64       2.17   \n",
       "9         1        13.86              1.35       2.27   \n",
       "..      ...          ...               ...        ...   \n",
       "168       3        13.58              2.58       2.69   \n",
       "169       3        13.40              4.60       2.86   \n",
       "170       3        12.20              3.03       2.32   \n",
       "171       3        12.77              2.39       2.28   \n",
       "172       3        14.16              2.51       2.48   \n",
       "173       3        13.71              5.65       2.45   \n",
       "174       3        13.40              3.91       2.48   \n",
       "175       3        13.27              4.28       2.26   \n",
       "176       3        13.17              2.59       2.37   \n",
       "177       3        14.13              4.10       2.74   \n",
       "\n",
       "     Alcalinity of ash [ml/l]  Magnesium [mg/l]  Total phenols [mg/l]  \\\n",
       "0                        15.6               127                  2.80   \n",
       "1                        11.2               100                  2.65   \n",
       "2                        18.6               101                  2.80   \n",
       "3                        16.8               113                  3.85   \n",
       "4                        21.0               118                  2.80   \n",
       "5                        15.2               112                  3.27   \n",
       "6                        14.6                96                  2.50   \n",
       "7                        17.6               121                  2.60   \n",
       "8                        14.0                97                  2.80   \n",
       "9                        16.0                98                  2.98   \n",
       "..                        ...               ...                   ...   \n",
       "168                      24.5               105                  1.55   \n",
       "169                      25.0               112                  1.98   \n",
       "170                      19.0                96                  1.25   \n",
       "171                      19.5                86                  1.39   \n",
       "172                      20.0                91                  1.68   \n",
       "173                      20.5                95                  1.68   \n",
       "174                      23.0               102                  1.80   \n",
       "175                      20.0               120                  1.59   \n",
       "176                      20.0               120                  1.65   \n",
       "177                      24.5                96                  2.05   \n",
       "\n",
       "     Flavonoids [mg/l]  Nonflavonoid phenols [mg/l]  Proanthocyanidins [mg/l]  \\\n",
       "0                 3.06                         0.28                      2.29   \n",
       "1                 2.76                         0.26                      1.28   \n",
       "2                 3.24                         0.30                      2.81   \n",
       "3                 3.49                         0.24                      2.18   \n",
       "4                 2.69                         0.39                      1.82   \n",
       "5                 3.39                         0.34                      1.97   \n",
       "6                 2.52                         0.30                      1.98   \n",
       "7                 2.51                         0.31                      1.25   \n",
       "8                 2.98                         0.29                      1.98   \n",
       "9                 3.15                         0.22                      1.85   \n",
       "..                 ...                          ...                       ...   \n",
       "168               0.84                         0.39                      1.54   \n",
       "169               0.96                         0.27                      1.11   \n",
       "170               0.49                         0.40                      0.73   \n",
       "171               0.51                         0.48                      0.64   \n",
       "172               0.70                         0.44                      1.24   \n",
       "173               0.61                         0.52                      1.06   \n",
       "174               0.75                         0.43                      1.41   \n",
       "175               0.69                         0.43                      1.35   \n",
       "176               0.68                         0.53                      1.46   \n",
       "177               0.76                         0.56                      1.35   \n",
       "\n",
       "     Color intensity   Hue  OD280/OD315 of diluted wines  Proline [mg/l]  \n",
       "0           5.640000  1.04                          3.92            1065  \n",
       "1           4.380000  1.05                          3.40            1050  \n",
       "2           5.680000  1.03                          3.17            1185  \n",
       "3           7.800000  0.86                          3.45            1480  \n",
       "4           4.320000  1.04                          2.93             735  \n",
       "5           6.750000  1.05                          2.85            1450  \n",
       "6           5.250000  1.02                          3.58            1290  \n",
       "7           5.050000  1.06                          3.58            1295  \n",
       "8           5.200000  1.08                          2.85            1045  \n",
       "9           7.220000  1.01                          3.55            1045  \n",
       "..               ...   ...                           ...             ...  \n",
       "168         8.660000  0.74                          1.80             750  \n",
       "169         8.500000  0.67                          1.92             630  \n",
       "170         5.500000  0.66                          1.83             510  \n",
       "171         9.899999  0.57                          1.63             470  \n",
       "172         9.700000  0.62                          1.71             660  \n",
       "173         7.700000  0.64                          1.74             740  \n",
       "174         7.300000  0.70                          1.56             750  \n",
       "175        10.200000  0.59                          1.56             835  \n",
       "176         9.300000  0.60                          1.62             840  \n",
       "177         9.200000  0.61                          1.60             560  \n",
       "\n",
       "[178 rows x 14 columns]"
      ]
     },
     "execution_count": 2,
     "metadata": {},
     "output_type": "execute_result"
    }
   ],
   "source": [
    "df_wine = pd.read_csv('wine.data', names=['Variety','Alcohol [%]','Malic acid [g/l]','Ash [g/l]','Alcalinity of ash [ml/l]','Magnesium [mg/l]', \n",
    "                                          'Total phenols [mg/l]', 'Flavonoids [mg/l]', 'Nonflavonoid phenols [mg/l]', 'Proanthocyanidins [mg/l]', \n",
    "                                          'Color intensity','Hue', 'OD280/OD315 of diluted wines','Proline [mg/l]'])\n",
    "df_wine['Variety'] = df_wine['Variety'].astype(str) # Convert integer to string.\n",
    "pd.set_option('display.max_rows', 20)\n",
    "df_wine"
   ]
  },
  {
   "cell_type": "markdown",
   "metadata": {},
   "source": [
    "Divide the wine data frame according to the variety, generate reference and test data:"
   ]
  },
  {
   "cell_type": "code",
   "execution_count": 3,
   "metadata": {},
   "outputs": [],
   "source": [
    "np.random.seed(seed = 100)\n",
    "\n",
    "# Generate test data.\n",
    "# Draw random sample 1: 20 observations from variety 2. \n",
    "df_test1 = df_wine[df_wine['Variety'] == '2'].sample(20)\n",
    "# Draw random sample 2: 15 observations from variety 1, 5 observations from variety 3. \n",
    "df_test2_tmp1 = df_wine[df_wine['Variety'] == '1'].sample(15)\n",
    "df_test2_tmp2 = df_wine[df_wine['Variety'] == '3'].sample(5)\n",
    "df_test2 = pd.concat([df_test2_tmp1, df_test2_tmp2])\n",
    "\n",
    "# Generate reference data.\n",
    "df_1 = df_wine[df_wine['Variety'] == '1'].drop(df_test2_tmp1.index)\n",
    "df_2 = df_wine[df_wine['Variety'] == '2'].drop(df_test1.index)\n",
    "df_3 = df_wine[df_wine['Variety'] == '3'].drop(df_test2_tmp2.index)\n",
    "df_ref = [df_1, df_2, df_3] # reference list for all varieties.\n",
    "df_total = [df_1, df_2, df_3, df_wine]"
   ]
  },
  {
   "cell_type": "markdown",
   "metadata": {},
   "source": [
    "## Descriptive Statistics"
   ]
  },
  {
   "cell_type": "markdown",
   "metadata": {},
   "source": [
    "Perform desriptive statistics on the wine data set. Describe the complete data set and the data related to each variety."
   ]
  },
  {
   "cell_type": "markdown",
   "metadata": {},
   "source": [
    "Descriptive statistics of the complete data set:"
   ]
  },
  {
   "cell_type": "code",
   "execution_count": 4,
   "metadata": {},
   "outputs": [
    {
     "data": {
      "text/html": [
       "<div>\n",
       "<style scoped>\n",
       "    .dataframe tbody tr th:only-of-type {\n",
       "        vertical-align: middle;\n",
       "    }\n",
       "\n",
       "    .dataframe tbody tr th {\n",
       "        vertical-align: top;\n",
       "    }\n",
       "\n",
       "    .dataframe thead th {\n",
       "        text-align: right;\n",
       "    }\n",
       "</style>\n",
       "<table border=\"1\" class=\"dataframe\">\n",
       "  <thead>\n",
       "    <tr style=\"text-align: right;\">\n",
       "      <th></th>\n",
       "      <th>Alcohol [%]</th>\n",
       "      <th>Malic acid [g/l]</th>\n",
       "      <th>Ash [g/l]</th>\n",
       "      <th>Alcalinity of ash [ml/l]</th>\n",
       "      <th>Magnesium [mg/l]</th>\n",
       "      <th>Total phenols [mg/l]</th>\n",
       "      <th>Flavonoids [mg/l]</th>\n",
       "      <th>Nonflavonoid phenols [mg/l]</th>\n",
       "      <th>Proanthocyanidins [mg/l]</th>\n",
       "      <th>Color intensity</th>\n",
       "      <th>Hue</th>\n",
       "      <th>OD280/OD315 of diluted wines</th>\n",
       "      <th>Proline [mg/l]</th>\n",
       "    </tr>\n",
       "  </thead>\n",
       "  <tbody>\n",
       "    <tr>\n",
       "      <th>count</th>\n",
       "      <td>178.00</td>\n",
       "      <td>178.00</td>\n",
       "      <td>178.00</td>\n",
       "      <td>178.00</td>\n",
       "      <td>178.00</td>\n",
       "      <td>178.00</td>\n",
       "      <td>178.00</td>\n",
       "      <td>178.00</td>\n",
       "      <td>178.00</td>\n",
       "      <td>178.00</td>\n",
       "      <td>178.00</td>\n",
       "      <td>178.00</td>\n",
       "      <td>178.00</td>\n",
       "    </tr>\n",
       "    <tr>\n",
       "      <th>mean</th>\n",
       "      <td>13.00</td>\n",
       "      <td>2.34</td>\n",
       "      <td>2.37</td>\n",
       "      <td>19.49</td>\n",
       "      <td>99.74</td>\n",
       "      <td>2.30</td>\n",
       "      <td>2.03</td>\n",
       "      <td>0.36</td>\n",
       "      <td>1.59</td>\n",
       "      <td>5.06</td>\n",
       "      <td>0.96</td>\n",
       "      <td>2.61</td>\n",
       "      <td>746.89</td>\n",
       "    </tr>\n",
       "    <tr>\n",
       "      <th>std</th>\n",
       "      <td>0.81</td>\n",
       "      <td>1.12</td>\n",
       "      <td>0.27</td>\n",
       "      <td>3.34</td>\n",
       "      <td>14.28</td>\n",
       "      <td>0.63</td>\n",
       "      <td>1.00</td>\n",
       "      <td>0.12</td>\n",
       "      <td>0.57</td>\n",
       "      <td>2.32</td>\n",
       "      <td>0.23</td>\n",
       "      <td>0.71</td>\n",
       "      <td>314.91</td>\n",
       "    </tr>\n",
       "    <tr>\n",
       "      <th>min</th>\n",
       "      <td>11.03</td>\n",
       "      <td>0.74</td>\n",
       "      <td>1.36</td>\n",
       "      <td>10.60</td>\n",
       "      <td>70.00</td>\n",
       "      <td>0.98</td>\n",
       "      <td>0.34</td>\n",
       "      <td>0.13</td>\n",
       "      <td>0.41</td>\n",
       "      <td>1.28</td>\n",
       "      <td>0.48</td>\n",
       "      <td>1.27</td>\n",
       "      <td>278.00</td>\n",
       "    </tr>\n",
       "    <tr>\n",
       "      <th>25%</th>\n",
       "      <td>12.36</td>\n",
       "      <td>1.60</td>\n",
       "      <td>2.21</td>\n",
       "      <td>17.20</td>\n",
       "      <td>88.00</td>\n",
       "      <td>1.74</td>\n",
       "      <td>1.20</td>\n",
       "      <td>0.27</td>\n",
       "      <td>1.25</td>\n",
       "      <td>3.22</td>\n",
       "      <td>0.78</td>\n",
       "      <td>1.94</td>\n",
       "      <td>500.50</td>\n",
       "    </tr>\n",
       "    <tr>\n",
       "      <th>50%</th>\n",
       "      <td>13.05</td>\n",
       "      <td>1.87</td>\n",
       "      <td>2.36</td>\n",
       "      <td>19.50</td>\n",
       "      <td>98.00</td>\n",
       "      <td>2.35</td>\n",
       "      <td>2.13</td>\n",
       "      <td>0.34</td>\n",
       "      <td>1.56</td>\n",
       "      <td>4.69</td>\n",
       "      <td>0.96</td>\n",
       "      <td>2.78</td>\n",
       "      <td>673.50</td>\n",
       "    </tr>\n",
       "    <tr>\n",
       "      <th>75%</th>\n",
       "      <td>13.68</td>\n",
       "      <td>3.08</td>\n",
       "      <td>2.56</td>\n",
       "      <td>21.50</td>\n",
       "      <td>107.00</td>\n",
       "      <td>2.80</td>\n",
       "      <td>2.88</td>\n",
       "      <td>0.44</td>\n",
       "      <td>1.95</td>\n",
       "      <td>6.20</td>\n",
       "      <td>1.12</td>\n",
       "      <td>3.17</td>\n",
       "      <td>985.00</td>\n",
       "    </tr>\n",
       "    <tr>\n",
       "      <th>max</th>\n",
       "      <td>14.83</td>\n",
       "      <td>5.80</td>\n",
       "      <td>3.23</td>\n",
       "      <td>30.00</td>\n",
       "      <td>162.00</td>\n",
       "      <td>3.88</td>\n",
       "      <td>5.08</td>\n",
       "      <td>0.66</td>\n",
       "      <td>3.58</td>\n",
       "      <td>13.00</td>\n",
       "      <td>1.71</td>\n",
       "      <td>4.00</td>\n",
       "      <td>1680.00</td>\n",
       "    </tr>\n",
       "  </tbody>\n",
       "</table>\n",
       "</div>"
      ],
      "text/plain": [
       "       Alcohol [%]  Malic acid [g/l]  Ash [g/l]  Alcalinity of ash [ml/l]  \\\n",
       "count       178.00            178.00     178.00                    178.00   \n",
       "mean         13.00              2.34       2.37                     19.49   \n",
       "std           0.81              1.12       0.27                      3.34   \n",
       "min          11.03              0.74       1.36                     10.60   \n",
       "25%          12.36              1.60       2.21                     17.20   \n",
       "50%          13.05              1.87       2.36                     19.50   \n",
       "75%          13.68              3.08       2.56                     21.50   \n",
       "max          14.83              5.80       3.23                     30.00   \n",
       "\n",
       "       Magnesium [mg/l]  Total phenols [mg/l]  Flavonoids [mg/l]  \\\n",
       "count            178.00                178.00             178.00   \n",
       "mean              99.74                  2.30               2.03   \n",
       "std               14.28                  0.63               1.00   \n",
       "min               70.00                  0.98               0.34   \n",
       "25%               88.00                  1.74               1.20   \n",
       "50%               98.00                  2.35               2.13   \n",
       "75%              107.00                  2.80               2.88   \n",
       "max              162.00                  3.88               5.08   \n",
       "\n",
       "       Nonflavonoid phenols [mg/l]  Proanthocyanidins [mg/l]  Color intensity  \\\n",
       "count                       178.00                    178.00           178.00   \n",
       "mean                          0.36                      1.59             5.06   \n",
       "std                           0.12                      0.57             2.32   \n",
       "min                           0.13                      0.41             1.28   \n",
       "25%                           0.27                      1.25             3.22   \n",
       "50%                           0.34                      1.56             4.69   \n",
       "75%                           0.44                      1.95             6.20   \n",
       "max                           0.66                      3.58            13.00   \n",
       "\n",
       "         Hue  OD280/OD315 of diluted wines  Proline [mg/l]  \n",
       "count 178.00                        178.00          178.00  \n",
       "mean    0.96                          2.61          746.89  \n",
       "std     0.23                          0.71          314.91  \n",
       "min     0.48                          1.27          278.00  \n",
       "25%     0.78                          1.94          500.50  \n",
       "50%     0.96                          2.78          673.50  \n",
       "75%     1.12                          3.17          985.00  \n",
       "max     1.71                          4.00         1680.00  "
      ]
     },
     "execution_count": 4,
     "metadata": {},
     "output_type": "execute_result"
    }
   ],
   "source": [
    "pd.set_option('display.float_format', lambda x: '%.2f' % x)\n",
    "df_wine.describe()"
   ]
  },
  {
   "cell_type": "markdown",
   "metadata": {},
   "source": [
    "Descriptive statistics for each variety:"
   ]
  },
  {
   "cell_type": "code",
   "execution_count": 5,
   "metadata": {},
   "outputs": [
    {
     "data": {
      "text/html": [
       "<div>\n",
       "<style scoped>\n",
       "    .dataframe tbody tr th:only-of-type {\n",
       "        vertical-align: middle;\n",
       "    }\n",
       "\n",
       "    .dataframe tbody tr th {\n",
       "        vertical-align: top;\n",
       "    }\n",
       "\n",
       "    .dataframe thead th {\n",
       "        text-align: right;\n",
       "    }\n",
       "</style>\n",
       "<table border=\"1\" class=\"dataframe\">\n",
       "  <thead>\n",
       "    <tr style=\"text-align: right;\">\n",
       "      <th></th>\n",
       "      <th>Alcohol [%]</th>\n",
       "      <th>Malic acid [g/l]</th>\n",
       "      <th>Ash [g/l]</th>\n",
       "      <th>Alcalinity of ash [ml/l]</th>\n",
       "      <th>Magnesium [mg/l]</th>\n",
       "      <th>Total phenols [mg/l]</th>\n",
       "      <th>Flavonoids [mg/l]</th>\n",
       "      <th>Nonflavonoid phenols [mg/l]</th>\n",
       "      <th>Proanthocyanidins [mg/l]</th>\n",
       "      <th>Color intensity</th>\n",
       "      <th>Hue</th>\n",
       "      <th>OD280/OD315 of diluted wines</th>\n",
       "      <th>Proline [mg/l]</th>\n",
       "    </tr>\n",
       "  </thead>\n",
       "  <tbody>\n",
       "    <tr>\n",
       "      <th>count</th>\n",
       "      <td>44.00</td>\n",
       "      <td>44.00</td>\n",
       "      <td>44.00</td>\n",
       "      <td>44.00</td>\n",
       "      <td>44.00</td>\n",
       "      <td>44.00</td>\n",
       "      <td>44.00</td>\n",
       "      <td>44.00</td>\n",
       "      <td>44.00</td>\n",
       "      <td>44.00</td>\n",
       "      <td>44.00</td>\n",
       "      <td>44.00</td>\n",
       "      <td>44.00</td>\n",
       "    </tr>\n",
       "    <tr>\n",
       "      <th>mean</th>\n",
       "      <td>13.75</td>\n",
       "      <td>2.05</td>\n",
       "      <td>2.48</td>\n",
       "      <td>17.25</td>\n",
       "      <td>107.82</td>\n",
       "      <td>2.87</td>\n",
       "      <td>3.02</td>\n",
       "      <td>0.29</td>\n",
       "      <td>1.91</td>\n",
       "      <td>5.60</td>\n",
       "      <td>1.05</td>\n",
       "      <td>3.20</td>\n",
       "      <td>1118.86</td>\n",
       "    </tr>\n",
       "    <tr>\n",
       "      <th>std</th>\n",
       "      <td>0.45</td>\n",
       "      <td>0.72</td>\n",
       "      <td>0.23</td>\n",
       "      <td>2.42</td>\n",
       "      <td>11.01</td>\n",
       "      <td>0.35</td>\n",
       "      <td>0.38</td>\n",
       "      <td>0.07</td>\n",
       "      <td>0.37</td>\n",
       "      <td>1.27</td>\n",
       "      <td>0.12</td>\n",
       "      <td>0.36</td>\n",
       "      <td>234.49</td>\n",
       "    </tr>\n",
       "    <tr>\n",
       "      <th>min</th>\n",
       "      <td>12.85</td>\n",
       "      <td>1.35</td>\n",
       "      <td>2.10</td>\n",
       "      <td>11.40</td>\n",
       "      <td>89.00</td>\n",
       "      <td>2.35</td>\n",
       "      <td>2.37</td>\n",
       "      <td>0.17</td>\n",
       "      <td>1.25</td>\n",
       "      <td>3.52</td>\n",
       "      <td>0.82</td>\n",
       "      <td>2.65</td>\n",
       "      <td>680.00</td>\n",
       "    </tr>\n",
       "    <tr>\n",
       "      <th>25%</th>\n",
       "      <td>13.48</td>\n",
       "      <td>1.67</td>\n",
       "      <td>2.30</td>\n",
       "      <td>16.00</td>\n",
       "      <td>101.00</td>\n",
       "      <td>2.60</td>\n",
       "      <td>2.69</td>\n",
       "      <td>0.23</td>\n",
       "      <td>1.66</td>\n",
       "      <td>4.75</td>\n",
       "      <td>0.95</td>\n",
       "      <td>2.88</td>\n",
       "      <td>981.25</td>\n",
       "    </tr>\n",
       "    <tr>\n",
       "      <th>50%</th>\n",
       "      <td>13.75</td>\n",
       "      <td>1.77</td>\n",
       "      <td>2.47</td>\n",
       "      <td>16.90</td>\n",
       "      <td>107.50</td>\n",
       "      <td>2.85</td>\n",
       "      <td>3.00</td>\n",
       "      <td>0.28</td>\n",
       "      <td>1.94</td>\n",
       "      <td>5.60</td>\n",
       "      <td>1.06</td>\n",
       "      <td>3.19</td>\n",
       "      <td>1095.00</td>\n",
       "    </tr>\n",
       "    <tr>\n",
       "      <th>75%</th>\n",
       "      <td>14.10</td>\n",
       "      <td>2.03</td>\n",
       "      <td>2.63</td>\n",
       "      <td>18.65</td>\n",
       "      <td>116.00</td>\n",
       "      <td>3.00</td>\n",
       "      <td>3.24</td>\n",
       "      <td>0.32</td>\n",
       "      <td>2.11</td>\n",
       "      <td>6.26</td>\n",
       "      <td>1.12</td>\n",
       "      <td>3.47</td>\n",
       "      <td>1285.00</td>\n",
       "    </tr>\n",
       "    <tr>\n",
       "      <th>max</th>\n",
       "      <td>14.75</td>\n",
       "      <td>3.99</td>\n",
       "      <td>3.22</td>\n",
       "      <td>25.00</td>\n",
       "      <td>132.00</td>\n",
       "      <td>3.88</td>\n",
       "      <td>3.93</td>\n",
       "      <td>0.50</td>\n",
       "      <td>2.81</td>\n",
       "      <td>8.90</td>\n",
       "      <td>1.28</td>\n",
       "      <td>4.00</td>\n",
       "      <td>1680.00</td>\n",
       "    </tr>\n",
       "  </tbody>\n",
       "</table>\n",
       "</div>"
      ],
      "text/plain": [
       "       Alcohol [%]  Malic acid [g/l]  Ash [g/l]  Alcalinity of ash [ml/l]  \\\n",
       "count        44.00             44.00      44.00                     44.00   \n",
       "mean         13.75              2.05       2.48                     17.25   \n",
       "std           0.45              0.72       0.23                      2.42   \n",
       "min          12.85              1.35       2.10                     11.40   \n",
       "25%          13.48              1.67       2.30                     16.00   \n",
       "50%          13.75              1.77       2.47                     16.90   \n",
       "75%          14.10              2.03       2.63                     18.65   \n",
       "max          14.75              3.99       3.22                     25.00   \n",
       "\n",
       "       Magnesium [mg/l]  Total phenols [mg/l]  Flavonoids [mg/l]  \\\n",
       "count             44.00                 44.00              44.00   \n",
       "mean             107.82                  2.87               3.02   \n",
       "std               11.01                  0.35               0.38   \n",
       "min               89.00                  2.35               2.37   \n",
       "25%              101.00                  2.60               2.69   \n",
       "50%              107.50                  2.85               3.00   \n",
       "75%              116.00                  3.00               3.24   \n",
       "max              132.00                  3.88               3.93   \n",
       "\n",
       "       Nonflavonoid phenols [mg/l]  Proanthocyanidins [mg/l]  Color intensity  \\\n",
       "count                        44.00                     44.00            44.00   \n",
       "mean                          0.29                      1.91             5.60   \n",
       "std                           0.07                      0.37             1.27   \n",
       "min                           0.17                      1.25             3.52   \n",
       "25%                           0.23                      1.66             4.75   \n",
       "50%                           0.28                      1.94             5.60   \n",
       "75%                           0.32                      2.11             6.26   \n",
       "max                           0.50                      2.81             8.90   \n",
       "\n",
       "        Hue  OD280/OD315 of diluted wines  Proline [mg/l]  \n",
       "count 44.00                         44.00           44.00  \n",
       "mean   1.05                          3.20         1118.86  \n",
       "std    0.12                          0.36          234.49  \n",
       "min    0.82                          2.65          680.00  \n",
       "25%    0.95                          2.88          981.25  \n",
       "50%    1.06                          3.19         1095.00  \n",
       "75%    1.12                          3.47         1285.00  \n",
       "max    1.28                          4.00         1680.00  "
      ]
     },
     "execution_count": 5,
     "metadata": {},
     "output_type": "execute_result"
    }
   ],
   "source": [
    "df_1.describe()"
   ]
  },
  {
   "cell_type": "code",
   "execution_count": 6,
   "metadata": {},
   "outputs": [
    {
     "data": {
      "text/html": [
       "<div>\n",
       "<style scoped>\n",
       "    .dataframe tbody tr th:only-of-type {\n",
       "        vertical-align: middle;\n",
       "    }\n",
       "\n",
       "    .dataframe tbody tr th {\n",
       "        vertical-align: top;\n",
       "    }\n",
       "\n",
       "    .dataframe thead th {\n",
       "        text-align: right;\n",
       "    }\n",
       "</style>\n",
       "<table border=\"1\" class=\"dataframe\">\n",
       "  <thead>\n",
       "    <tr style=\"text-align: right;\">\n",
       "      <th></th>\n",
       "      <th>Alcohol [%]</th>\n",
       "      <th>Malic acid [g/l]</th>\n",
       "      <th>Ash [g/l]</th>\n",
       "      <th>Alcalinity of ash [ml/l]</th>\n",
       "      <th>Magnesium [mg/l]</th>\n",
       "      <th>Total phenols [mg/l]</th>\n",
       "      <th>Flavonoids [mg/l]</th>\n",
       "      <th>Nonflavonoid phenols [mg/l]</th>\n",
       "      <th>Proanthocyanidins [mg/l]</th>\n",
       "      <th>Color intensity</th>\n",
       "      <th>Hue</th>\n",
       "      <th>OD280/OD315 of diluted wines</th>\n",
       "      <th>Proline [mg/l]</th>\n",
       "    </tr>\n",
       "  </thead>\n",
       "  <tbody>\n",
       "    <tr>\n",
       "      <th>count</th>\n",
       "      <td>51.00</td>\n",
       "      <td>51.00</td>\n",
       "      <td>51.00</td>\n",
       "      <td>51.00</td>\n",
       "      <td>51.00</td>\n",
       "      <td>51.00</td>\n",
       "      <td>51.00</td>\n",
       "      <td>51.00</td>\n",
       "      <td>51.00</td>\n",
       "      <td>51.00</td>\n",
       "      <td>51.00</td>\n",
       "      <td>51.00</td>\n",
       "      <td>51.00</td>\n",
       "    </tr>\n",
       "    <tr>\n",
       "      <th>mean</th>\n",
       "      <td>12.29</td>\n",
       "      <td>1.91</td>\n",
       "      <td>2.25</td>\n",
       "      <td>20.36</td>\n",
       "      <td>95.63</td>\n",
       "      <td>2.22</td>\n",
       "      <td>2.06</td>\n",
       "      <td>0.37</td>\n",
       "      <td>1.61</td>\n",
       "      <td>3.18</td>\n",
       "      <td>1.03</td>\n",
       "      <td>2.78</td>\n",
       "      <td>504.82</td>\n",
       "    </tr>\n",
       "    <tr>\n",
       "      <th>std</th>\n",
       "      <td>0.55</td>\n",
       "      <td>1.02</td>\n",
       "      <td>0.31</td>\n",
       "      <td>3.31</td>\n",
       "      <td>18.59</td>\n",
       "      <td>0.54</td>\n",
       "      <td>0.69</td>\n",
       "      <td>0.14</td>\n",
       "      <td>0.57</td>\n",
       "      <td>0.99</td>\n",
       "      <td>0.20</td>\n",
       "      <td>0.51</td>\n",
       "      <td>164.12</td>\n",
       "    </tr>\n",
       "    <tr>\n",
       "      <th>min</th>\n",
       "      <td>11.03</td>\n",
       "      <td>0.74</td>\n",
       "      <td>1.70</td>\n",
       "      <td>14.80</td>\n",
       "      <td>78.00</td>\n",
       "      <td>1.38</td>\n",
       "      <td>0.99</td>\n",
       "      <td>0.13</td>\n",
       "      <td>0.41</td>\n",
       "      <td>1.28</td>\n",
       "      <td>0.69</td>\n",
       "      <td>1.59</td>\n",
       "      <td>278.00</td>\n",
       "    </tr>\n",
       "    <tr>\n",
       "      <th>25%</th>\n",
       "      <td>11.86</td>\n",
       "      <td>1.27</td>\n",
       "      <td>2.00</td>\n",
       "      <td>18.25</td>\n",
       "      <td>86.00</td>\n",
       "      <td>1.81</td>\n",
       "      <td>1.62</td>\n",
       "      <td>0.27</td>\n",
       "      <td>1.35</td>\n",
       "      <td>2.50</td>\n",
       "      <td>0.91</td>\n",
       "      <td>2.43</td>\n",
       "      <td>382.50</td>\n",
       "    </tr>\n",
       "    <tr>\n",
       "      <th>50%</th>\n",
       "      <td>12.33</td>\n",
       "      <td>1.63</td>\n",
       "      <td>2.26</td>\n",
       "      <td>20.00</td>\n",
       "      <td>88.00</td>\n",
       "      <td>2.13</td>\n",
       "      <td>2.03</td>\n",
       "      <td>0.35</td>\n",
       "      <td>1.62</td>\n",
       "      <td>3.05</td>\n",
       "      <td>1.00</td>\n",
       "      <td>2.84</td>\n",
       "      <td>472.00</td>\n",
       "    </tr>\n",
       "    <tr>\n",
       "      <th>75%</th>\n",
       "      <td>12.62</td>\n",
       "      <td>2.12</td>\n",
       "      <td>2.41</td>\n",
       "      <td>21.80</td>\n",
       "      <td>99.00</td>\n",
       "      <td>2.54</td>\n",
       "      <td>2.26</td>\n",
       "      <td>0.47</td>\n",
       "      <td>1.87</td>\n",
       "      <td>3.67</td>\n",
       "      <td>1.16</td>\n",
       "      <td>3.13</td>\n",
       "      <td>585.50</td>\n",
       "    </tr>\n",
       "    <tr>\n",
       "      <th>max</th>\n",
       "      <td>13.67</td>\n",
       "      <td>5.80</td>\n",
       "      <td>3.23</td>\n",
       "      <td>30.00</td>\n",
       "      <td>162.00</td>\n",
       "      <td>3.50</td>\n",
       "      <td>5.08</td>\n",
       "      <td>0.66</td>\n",
       "      <td>3.28</td>\n",
       "      <td>6.00</td>\n",
       "      <td>1.71</td>\n",
       "      <td>3.69</td>\n",
       "      <td>985.00</td>\n",
       "    </tr>\n",
       "  </tbody>\n",
       "</table>\n",
       "</div>"
      ],
      "text/plain": [
       "       Alcohol [%]  Malic acid [g/l]  Ash [g/l]  Alcalinity of ash [ml/l]  \\\n",
       "count        51.00             51.00      51.00                     51.00   \n",
       "mean         12.29              1.91       2.25                     20.36   \n",
       "std           0.55              1.02       0.31                      3.31   \n",
       "min          11.03              0.74       1.70                     14.80   \n",
       "25%          11.86              1.27       2.00                     18.25   \n",
       "50%          12.33              1.63       2.26                     20.00   \n",
       "75%          12.62              2.12       2.41                     21.80   \n",
       "max          13.67              5.80       3.23                     30.00   \n",
       "\n",
       "       Magnesium [mg/l]  Total phenols [mg/l]  Flavonoids [mg/l]  \\\n",
       "count             51.00                 51.00              51.00   \n",
       "mean              95.63                  2.22               2.06   \n",
       "std               18.59                  0.54               0.69   \n",
       "min               78.00                  1.38               0.99   \n",
       "25%               86.00                  1.81               1.62   \n",
       "50%               88.00                  2.13               2.03   \n",
       "75%               99.00                  2.54               2.26   \n",
       "max              162.00                  3.50               5.08   \n",
       "\n",
       "       Nonflavonoid phenols [mg/l]  Proanthocyanidins [mg/l]  Color intensity  \\\n",
       "count                        51.00                     51.00            51.00   \n",
       "mean                          0.37                      1.61             3.18   \n",
       "std                           0.14                      0.57             0.99   \n",
       "min                           0.13                      0.41             1.28   \n",
       "25%                           0.27                      1.35             2.50   \n",
       "50%                           0.35                      1.62             3.05   \n",
       "75%                           0.47                      1.87             3.67   \n",
       "max                           0.66                      3.28             6.00   \n",
       "\n",
       "        Hue  OD280/OD315 of diluted wines  Proline [mg/l]  \n",
       "count 51.00                         51.00           51.00  \n",
       "mean   1.03                          2.78          504.82  \n",
       "std    0.20                          0.51          164.12  \n",
       "min    0.69                          1.59          278.00  \n",
       "25%    0.91                          2.43          382.50  \n",
       "50%    1.00                          2.84          472.00  \n",
       "75%    1.16                          3.13          585.50  \n",
       "max    1.71                          3.69          985.00  "
      ]
     },
     "execution_count": 6,
     "metadata": {},
     "output_type": "execute_result"
    }
   ],
   "source": [
    "df_2.describe()"
   ]
  },
  {
   "cell_type": "code",
   "execution_count": 7,
   "metadata": {},
   "outputs": [
    {
     "data": {
      "text/html": [
       "<div>\n",
       "<style scoped>\n",
       "    .dataframe tbody tr th:only-of-type {\n",
       "        vertical-align: middle;\n",
       "    }\n",
       "\n",
       "    .dataframe tbody tr th {\n",
       "        vertical-align: top;\n",
       "    }\n",
       "\n",
       "    .dataframe thead th {\n",
       "        text-align: right;\n",
       "    }\n",
       "</style>\n",
       "<table border=\"1\" class=\"dataframe\">\n",
       "  <thead>\n",
       "    <tr style=\"text-align: right;\">\n",
       "      <th></th>\n",
       "      <th>Alcohol [%]</th>\n",
       "      <th>Malic acid [g/l]</th>\n",
       "      <th>Ash [g/l]</th>\n",
       "      <th>Alcalinity of ash [ml/l]</th>\n",
       "      <th>Magnesium [mg/l]</th>\n",
       "      <th>Total phenols [mg/l]</th>\n",
       "      <th>Flavonoids [mg/l]</th>\n",
       "      <th>Nonflavonoid phenols [mg/l]</th>\n",
       "      <th>Proanthocyanidins [mg/l]</th>\n",
       "      <th>Color intensity</th>\n",
       "      <th>Hue</th>\n",
       "      <th>OD280/OD315 of diluted wines</th>\n",
       "      <th>Proline [mg/l]</th>\n",
       "    </tr>\n",
       "  </thead>\n",
       "  <tbody>\n",
       "    <tr>\n",
       "      <th>count</th>\n",
       "      <td>43.00</td>\n",
       "      <td>43.00</td>\n",
       "      <td>43.00</td>\n",
       "      <td>43.00</td>\n",
       "      <td>43.00</td>\n",
       "      <td>43.00</td>\n",
       "      <td>43.00</td>\n",
       "      <td>43.00</td>\n",
       "      <td>43.00</td>\n",
       "      <td>43.00</td>\n",
       "      <td>43.00</td>\n",
       "      <td>43.00</td>\n",
       "      <td>43.00</td>\n",
       "    </tr>\n",
       "    <tr>\n",
       "      <th>mean</th>\n",
       "      <td>13.17</td>\n",
       "      <td>3.27</td>\n",
       "      <td>2.43</td>\n",
       "      <td>21.16</td>\n",
       "      <td>99.33</td>\n",
       "      <td>1.67</td>\n",
       "      <td>0.80</td>\n",
       "      <td>0.45</td>\n",
       "      <td>1.16</td>\n",
       "      <td>7.54</td>\n",
       "      <td>0.68</td>\n",
       "      <td>1.66</td>\n",
       "      <td>618.60</td>\n",
       "    </tr>\n",
       "    <tr>\n",
       "      <th>std</th>\n",
       "      <td>0.54</td>\n",
       "      <td>1.07</td>\n",
       "      <td>0.17</td>\n",
       "      <td>2.06</td>\n",
       "      <td>11.22</td>\n",
       "      <td>0.37</td>\n",
       "      <td>0.30</td>\n",
       "      <td>0.12</td>\n",
       "      <td>0.42</td>\n",
       "      <td>2.33</td>\n",
       "      <td>0.12</td>\n",
       "      <td>0.26</td>\n",
       "      <td>106.77</td>\n",
       "    </tr>\n",
       "    <tr>\n",
       "      <th>min</th>\n",
       "      <td>12.20</td>\n",
       "      <td>1.24</td>\n",
       "      <td>2.10</td>\n",
       "      <td>17.50</td>\n",
       "      <td>80.00</td>\n",
       "      <td>0.98</td>\n",
       "      <td>0.34</td>\n",
       "      <td>0.17</td>\n",
       "      <td>0.55</td>\n",
       "      <td>3.85</td>\n",
       "      <td>0.48</td>\n",
       "      <td>1.27</td>\n",
       "      <td>415.00</td>\n",
       "    </tr>\n",
       "    <tr>\n",
       "      <th>25%</th>\n",
       "      <td>12.82</td>\n",
       "      <td>2.58</td>\n",
       "      <td>2.30</td>\n",
       "      <td>19.75</td>\n",
       "      <td>89.50</td>\n",
       "      <td>1.40</td>\n",
       "      <td>0.59</td>\n",
       "      <td>0.40</td>\n",
       "      <td>0.85</td>\n",
       "      <td>5.47</td>\n",
       "      <td>0.58</td>\n",
       "      <td>1.50</td>\n",
       "      <td>540.00</td>\n",
       "    </tr>\n",
       "    <tr>\n",
       "      <th>50%</th>\n",
       "      <td>13.17</td>\n",
       "      <td>3.26</td>\n",
       "      <td>2.38</td>\n",
       "      <td>21.00</td>\n",
       "      <td>97.00</td>\n",
       "      <td>1.62</td>\n",
       "      <td>0.70</td>\n",
       "      <td>0.47</td>\n",
       "      <td>1.06</td>\n",
       "      <td>7.65</td>\n",
       "      <td>0.66</td>\n",
       "      <td>1.62</td>\n",
       "      <td>620.00</td>\n",
       "    </tr>\n",
       "    <tr>\n",
       "      <th>75%</th>\n",
       "      <td>13.55</td>\n",
       "      <td>3.91</td>\n",
       "      <td>2.56</td>\n",
       "      <td>22.50</td>\n",
       "      <td>106.00</td>\n",
       "      <td>1.80</td>\n",
       "      <td>0.92</td>\n",
       "      <td>0.53</td>\n",
       "      <td>1.38</td>\n",
       "      <td>9.35</td>\n",
       "      <td>0.76</td>\n",
       "      <td>1.81</td>\n",
       "      <td>682.50</td>\n",
       "    </tr>\n",
       "    <tr>\n",
       "      <th>max</th>\n",
       "      <td>14.34</td>\n",
       "      <td>5.65</td>\n",
       "      <td>2.75</td>\n",
       "      <td>25.50</td>\n",
       "      <td>123.00</td>\n",
       "      <td>2.80</td>\n",
       "      <td>1.57</td>\n",
       "      <td>0.63</td>\n",
       "      <td>2.70</td>\n",
       "      <td>13.00</td>\n",
       "      <td>0.96</td>\n",
       "      <td>2.31</td>\n",
       "      <td>855.00</td>\n",
       "    </tr>\n",
       "  </tbody>\n",
       "</table>\n",
       "</div>"
      ],
      "text/plain": [
       "       Alcohol [%]  Malic acid [g/l]  Ash [g/l]  Alcalinity of ash [ml/l]  \\\n",
       "count        43.00             43.00      43.00                     43.00   \n",
       "mean         13.17              3.27       2.43                     21.16   \n",
       "std           0.54              1.07       0.17                      2.06   \n",
       "min          12.20              1.24       2.10                     17.50   \n",
       "25%          12.82              2.58       2.30                     19.75   \n",
       "50%          13.17              3.26       2.38                     21.00   \n",
       "75%          13.55              3.91       2.56                     22.50   \n",
       "max          14.34              5.65       2.75                     25.50   \n",
       "\n",
       "       Magnesium [mg/l]  Total phenols [mg/l]  Flavonoids [mg/l]  \\\n",
       "count             43.00                 43.00              43.00   \n",
       "mean              99.33                  1.67               0.80   \n",
       "std               11.22                  0.37               0.30   \n",
       "min               80.00                  0.98               0.34   \n",
       "25%               89.50                  1.40               0.59   \n",
       "50%               97.00                  1.62               0.70   \n",
       "75%              106.00                  1.80               0.92   \n",
       "max              123.00                  2.80               1.57   \n",
       "\n",
       "       Nonflavonoid phenols [mg/l]  Proanthocyanidins [mg/l]  Color intensity  \\\n",
       "count                        43.00                     43.00            43.00   \n",
       "mean                          0.45                      1.16             7.54   \n",
       "std                           0.12                      0.42             2.33   \n",
       "min                           0.17                      0.55             3.85   \n",
       "25%                           0.40                      0.85             5.47   \n",
       "50%                           0.47                      1.06             7.65   \n",
       "75%                           0.53                      1.38             9.35   \n",
       "max                           0.63                      2.70            13.00   \n",
       "\n",
       "        Hue  OD280/OD315 of diluted wines  Proline [mg/l]  \n",
       "count 43.00                         43.00           43.00  \n",
       "mean   0.68                          1.66          618.60  \n",
       "std    0.12                          0.26          106.77  \n",
       "min    0.48                          1.27          415.00  \n",
       "25%    0.58                          1.50          540.00  \n",
       "50%    0.66                          1.62          620.00  \n",
       "75%    0.76                          1.81          682.50  \n",
       "max    0.96                          2.31          855.00  "
      ]
     },
     "execution_count": 7,
     "metadata": {},
     "output_type": "execute_result"
    }
   ],
   "source": [
    "df_3.describe()"
   ]
  },
  {
   "cell_type": "markdown",
   "metadata": {},
   "source": [
    "Plot the data in order to get an idea about the variables that might vary in a statistical significant way between the three wine varieties."
   ]
  },
  {
   "cell_type": "code",
   "execution_count": 8,
   "metadata": {},
   "outputs": [
    {
     "data": {
      "image/png": "[encoded data removed]",
      "text/plain": [
       "<Figure size 432x288 with 1 Axes>"
      ]
     },
     "metadata": {
      "needs_background": "light"
     },
     "output_type": "display_data"
    },
    {
     "data": {
      "image/png": "[encoded data removed]",
      "text/plain": [
       "<Figure size 432x288 with 1 Axes>"
      ]
     },
     "metadata": {
      "needs_background": "light"
     },
     "output_type": "display_data"
    },
    {
     "data": {
      "image/png": "[encoded data removed]",
      "text/plain": [
       "<Figure size 432x288 with 1 Axes>"
      ]
     },
     "metadata": {
      "needs_background": "light"
     },
     "output_type": "display_data"
    },
    {
     "data": {
      "image/png": "[encoded data removed]",
      "text/plain": [
       "<Figure size 432x288 with 1 Axes>"
      ]
     },
     "metadata": {
      "needs_background": "light"
     },
     "output_type": "display_data"
    },
    {
     "data": {
      "image/png": "[encoded data removed]",
      "text/plain": [
       "<Figure size 432x288 with 1 Axes>"
      ]
     },
     "metadata": {
      "needs_background": "light"
     },
     "output_type": "display_data"
    },
    {
     "data": {
      "image/png": "[encoded data removed]",
      "text/plain": [
       "<Figure size 432x288 with 1 Axes>"
      ]
     },
     "metadata": {
      "needs_background": "light"
     },
     "output_type": "display_data"
    },
    {
     "data": {
      "image/png": "[encoded data removed]",
      "text/plain": [
       "<Figure size 432x288 with 1 Axes>"
      ]
     },
     "metadata": {
      "needs_background": "light"
     },
     "output_type": "display_data"
    },
    {
     "data": {
      "image/png": "[encoded data removed]",
      "text/plain": [
       "<Figure size 432x288 with 1 Axes>"
      ]
     },
     "metadata": {
      "needs_background": "light"
     },
     "output_type": "display_data"
    },
    {
     "data": {
      "image/png": "[encoded data removed]",
      "text/plain": [
       "<Figure size 432x288 with 1 Axes>"
      ]
     },
     "metadata": {
      "needs_background": "light"
     },
     "output_type": "display_data"
    },
    {
     "data": {
      "image/png": "[encoded data removed]",
      "text/plain": [
       "<Figure size 432x288 with 1 Axes>"
      ]
     },
     "metadata": {
      "needs_background": "light"
     },
     "output_type": "display_data"
    },
    {
     "data": {
      "image/png": "[encoded data removed]",
      "text/plain": [
       "<Figure size 432x288 with 1 Axes>"
      ]
     },
     "metadata": {
      "needs_background": "light"
     },
     "output_type": "display_data"
    },
    {
     "data": {
      "image/png": "[encoded data removed]",
      "text/plain": [
       "<Figure size 432x288 with 1 Axes>"
      ]
     },
     "metadata": {
      "needs_background": "light"
     },
     "output_type": "display_data"
    },
    {
     "data": {
      "image/png": "[encoded data removed]",
      "text/plain": [
       "<Figure size 432x288 with 1 Axes>"
      ]
     },
     "metadata": {
      "needs_background": "light"
     },
     "output_type": "display_data"
    }
   ],
   "source": [
    "for i in range(1,14): # Loop over variables.\n",
    "    c = 1\n",
    "    for df in df_total[0:3]: # Loop over varieties.\n",
    "        df.iloc[:,i].plot(kind = \"hist\", fill = True, alpha = 0.2, histtype = 'step', label = 'variety ' + str(c))\n",
    "        c += 1\n",
    "    plt.legend()\n",
    "    plt.xlabel(df_wine.columns[i])\n",
    "    plt.show()"
   ]
  },
  {
   "cell_type": "markdown",
   "metadata": {},
   "source": [
    "Generate some extra plots for Alcohol:"
   ]
  },
  {
   "cell_type": "code",
   "execution_count": 9,
   "metadata": {},
   "outputs": [
    {
     "data": {
      "image/png": "[encoded data removed]",
      "text/plain": [
       "<Figure size 432x288 with 1 Axes>"
      ]
     },
     "metadata": {
      "needs_background": "light"
     },
     "output_type": "display_data"
    },
    {
     "data": {
      "image/png": "[encoded data removed]",
      "text/plain": [
       "<Figure size 432x288 with 1 Axes>"
      ]
     },
     "metadata": {
      "needs_background": "light"
     },
     "output_type": "display_data"
    }
   ],
   "source": [
    "# parametric approach.\n",
    "fig, ax = plt.subplots()\n",
    "colors = ['darkblue','orange','green']\n",
    "bins = [6,8,5]\n",
    "cn = 0\n",
    "c = 1\n",
    "for df in df_total[0:3]: # Loop over varieties.\n",
    "    mu_est, std_est = stats.norm.fit(df['Alcohol'])\n",
    "    xs = np.linspace(10.75, 15.25, num=100)\n",
    "    ys = stats.norm.pdf(xs, mu_est, std_est)\n",
    "    ax.plot(xs, ys, color = colors[cn])\n",
    "    ax.hist(\n",
    "        df['Alcohol'], \n",
    "        fill = True, \n",
    "        alpha = 0.2, \n",
    "        histtype = 'step', \n",
    "        color = colors[cn],\n",
    "        label = 'variety ' + str(c),\n",
    "        bins = bins[cn],\n",
    "        density = True\n",
    "    )\n",
    "    cn += 1\n",
    "    c += 1\n",
    "plt.legend()\n",
    "plt.xlabel('Alcohol')\n",
    "plt.ylabel('Density')\n",
    "plt.savefig('hist_varieties_param.png', dpi = 600)\n",
    "plt.show()\n",
    "\n",
    "# nonparametric approach.\n",
    "fig, ax = plt.subplots()\n",
    "colors = ['darkblue','orange', 'green']\n",
    "bins = [6,8,5]\n",
    "cn = 0\n",
    "c = 1\n",
    "for df in df_total[0:3]: # Loop over varieties.\n",
    "    kde = stats.gaussian_kde(df['Alcohol'])\n",
    "    xs = np.linspace(10.75, 15.25, num=100)\n",
    "    ys = kde(xs)\n",
    "    ax.plot(xs, ys, color = colors[cn])\n",
    "    ax.hist(\n",
    "        df['Alcohol'], \n",
    "        fill = True, \n",
    "        alpha = 0.2, \n",
    "        histtype = 'step', \n",
    "        color = colors[cn],\n",
    "        label = 'variety ' + str(c),\n",
    "        bins = bins[cn],\n",
    "        density = True\n",
    "    )\n",
    "    cn += 1\n",
    "    c += 1\n",
    "plt.legend()\n",
    "plt.xlabel('Alcohol')\n",
    "plt.ylabel('Density')\n",
    "plt.savefig('hist_varieties_nonparam.png', dpi = 600)\n",
    "plt.show()\n"
   ]
  },
  {
   "cell_type": "markdown",
   "metadata": {},
   "source": [
    "## Data Distribution"
   ]
  },
  {
   "cell_type": "markdown",
   "metadata": {},
   "source": [
    "We consider unpaired t-tests for our analyses. We check the normality assumption by means of the **D\\'Agostino-Pearson test** and the **Shapiro-Wilk test**. In order to see if we have equal variances we use the **Levene test** and the **Bartlett test**."
   ]
  },
  {
   "cell_type": "code",
   "execution_count": 10,
   "metadata": {},
   "outputs": [
    {
     "name": "stdout",
     "output_type": "stream",
     "text": [
      "\n",
      "p-values from the D'Agostino-Pearson test on Gaussian distribution, variable: Alcohol\n",
      "Variety 1: 0.6865 \n",
      "Variety 2: 0.6022 \n",
      "Variety 3: 0.5574 \n",
      "\n",
      "p-values from the Shapiro-Wilk test on Gaussian distribution, variable: Alcohol\n",
      "Variety 1: 0.6573 \n",
      "Variety 2: 0.7889 \n",
      "Variety 3: 0.5893 \n",
      "\n",
      "p-value from the Levene test on equal variance, variable: Alcohol\n",
      "0.3081\n",
      "\n",
      "p-value from the Bartlett test on equal variance, variable: Alcohol\n",
      "0.3109\n",
      "\n",
      "\n",
      "p-values from the D'Agostino-Pearson test on Gaussian distribution, variable: Malic acid\n",
      "Variety 1: 0.0000 \n",
      "Variety 2: 0.0000 \n",
      "Variety 3: 0.9362 \n",
      "\n",
      "p-values from the Shapiro-Wilk test on Gaussian distribution, variable: Malic acid\n",
      "Variety 1: 0.0000 \n",
      "Variety 2: 0.0000 \n",
      "Variety 3: 0.8547 \n",
      "\n",
      "p-value from the Levene test on equal variance, variable: Malic acid\n",
      "0.0226\n",
      "\n",
      "p-value from the Bartlett test on equal variance, variable: Malic acid\n",
      "0.0234\n",
      "\n",
      "\n",
      "p-values from the D'Agostino-Pearson test on Gaussian distribution, variable: Ash\n",
      "Variety 1: 0.0544 \n",
      "Variety 2: 0.0336 \n",
      "Variety 3: 0.1487 \n",
      "\n",
      "p-values from the Shapiro-Wilk test on Gaussian distribution, variable: Ash\n",
      "Variety 1: 0.1254 \n",
      "Variety 2: 0.0914 \n",
      "Variety 3: 0.0646 \n",
      "\n",
      "p-value from the Levene test on equal variance, variable: Ash\n",
      "0.0270\n",
      "\n",
      "p-value from the Bartlett test on equal variance, variable: Ash\n",
      "0.0006\n",
      "\n",
      "\n",
      "p-values from the D'Agostino-Pearson test on Gaussian distribution, variable: Alcalinity of ash\n",
      "Variety 1: 0.0187 \n",
      "Variety 2: 0.0121 \n",
      "Variety 3: 0.2703 \n",
      "\n",
      "p-values from the Shapiro-Wilk test on Gaussian distribution, variable: Alcalinity of ash\n",
      "Variety 1: 0.1166 \n",
      "Variety 2: 0.0097 \n",
      "Variety 3: 0.1836 \n",
      "\n",
      "p-value from the Levene test on equal variance, variable: Alcalinity of ash\n",
      "0.0458\n",
      "\n",
      "p-value from the Bartlett test on equal variance, variable: Alcalinity of ash\n",
      "0.0043\n",
      "\n",
      "\n",
      "p-values from the D'Agostino-Pearson test on Gaussian distribution, variable: Magnesium\n",
      "Variety 1: 0.3774 \n",
      "Variety 2: 0.0000 \n",
      "Variety 3: 0.1992 \n",
      "\n",
      "p-values from the Shapiro-Wilk test on Gaussian distribution, variable: Magnesium\n",
      "Variety 1: 0.4493 \n",
      "Variety 2: 0.0000 \n",
      "Variety 3: 0.0451 \n",
      "\n",
      "p-value from the Levene test on equal variance, variable: Magnesium\n",
      "0.5358\n",
      "\n",
      "p-value from the Bartlett test on equal variance, variable: Magnesium\n",
      "0.0002\n",
      "\n",
      "\n",
      "p-values from the D'Agostino-Pearson test on Gaussian distribution, variable: Total phenols\n",
      "Variety 1: 0.0120 \n",
      "Variety 2: 0.2735 \n",
      "Variety 3: 0.0046 \n",
      "\n",
      "p-values from the Shapiro-Wilk test on Gaussian distribution, variable: Total phenols\n",
      "Variety 1: 0.0132 \n",
      "Variety 2: 0.1008 \n",
      "Variety 3: 0.0131 \n",
      "\n",
      "p-value from the Levene test on equal variance, variable: Total phenols\n",
      "0.0027\n",
      "\n",
      "p-value from the Bartlett test on equal variance, variable: Total phenols\n",
      "0.0039\n",
      "\n",
      "\n",
      "p-values from the D'Agostino-Pearson test on Gaussian distribution, variable: Flavanoids\n",
      "Variety 1: 0.3565 \n",
      "Variety 2: 0.0000 \n",
      "Variety 3: 0.0521 \n",
      "\n",
      "p-values from the Shapiro-Wilk test on Gaussian distribution, variable: Flavanoids\n",
      "Variety 1: 0.3100 \n",
      "Variety 2: 0.0001 \n",
      "Variety 3: 0.0014 \n",
      "\n",
      "p-value from the Levene test on equal variance, variable: Flavanoids\n",
      "0.0025\n",
      "\n",
      "p-value from the Bartlett test on equal variance, variable: Flavanoids\n",
      "0.0000\n",
      "\n",
      "\n",
      "p-values from the D'Agostino-Pearson test on Gaussian distribution, variable: Nonflavanoid phenols\n",
      "Variety 1: 0.0186 \n",
      "Variety 2: 0.2695 \n",
      "Variety 3: 0.1668 \n",
      "\n",
      "p-values from the Shapiro-Wilk test on Gaussian distribution, variable: Nonflavanoid phenols\n",
      "Variety 1: 0.0266 \n",
      "Variety 2: 0.3130 \n",
      "Variety 3: 0.0131 \n",
      "\n",
      "p-value from the Levene test on equal variance, variable: Nonflavanoid phenols\n",
      "0.0003\n",
      "\n",
      "p-value from the Bartlett test on equal variance, variable: Nonflavanoid phenols\n",
      "0.0002\n",
      "\n",
      "\n",
      "p-values from the D'Agostino-Pearson test on Gaussian distribution, variable: Proanthocyanins\n",
      "Variety 1: 0.5312 \n",
      "Variety 2: 0.1306 \n",
      "Variety 3: 0.0000 \n",
      "\n",
      "p-values from the Shapiro-Wilk test on Gaussian distribution, variable: Proanthocyanins\n",
      "Variety 1: 0.3654 \n",
      "Variety 2: 0.1509 \n",
      "Variety 3: 0.0004 \n",
      "\n",
      "p-value from the Levene test on equal variance, variable: Proanthocyanins\n",
      "0.1852\n",
      "\n",
      "p-value from the Bartlett test on equal variance, variable: Proanthocyanins\n",
      "0.0116\n",
      "\n",
      "\n",
      "p-values from the D'Agostino-Pearson test on Gaussian distribution, variable: Color intensity\n",
      "Variety 1: 0.2365 \n",
      "Variety 2: 0.0137 \n",
      "Variety 3: 0.2181 \n",
      "\n",
      "p-values from the Shapiro-Wilk test on Gaussian distribution, variable: Color intensity\n",
      "Variety 1: 0.2610 \n",
      "Variety 2: 0.0162 \n",
      "Variety 3: 0.1542 \n",
      "\n",
      "p-value from the Levene test on equal variance, variable: Color intensity\n",
      "0.0000\n",
      "\n",
      "p-value from the Bartlett test on equal variance, variable: Color intensity\n",
      "0.0000\n",
      "\n",
      "\n",
      "p-values from the D'Agostino-Pearson test on Gaussian distribution, variable: Hue\n",
      "Variety 1: 0.3937 \n",
      "Variety 2: 0.0138 \n",
      "Variety 3: 0.1851 \n",
      "\n",
      "p-values from the Shapiro-Wilk test on Gaussian distribution, variable: Hue\n",
      "Variety 1: 0.2571 \n",
      "Variety 2: 0.0965 \n",
      "Variety 3: 0.0195 \n",
      "\n",
      "p-value from the Levene test on equal variance, variable: Hue\n",
      "0.0068\n",
      "\n",
      "p-value from the Bartlett test on equal variance, variable: Hue\n",
      "0.0003\n",
      "\n",
      "\n",
      "p-values from the D'Agostino-Pearson test on Gaussian distribution, variable: OD280/OD315 of diluted wines\n",
      "Variety 1: 0.2186 \n",
      "Variety 2: 0.3640 \n",
      "Variety 3: 0.3856 \n",
      "\n",
      "p-values from the Shapiro-Wilk test on Gaussian distribution, variable: OD280/OD315 of diluted wines\n",
      "Variety 1: 0.1094 \n",
      "Variety 2: 0.3121 \n",
      "Variety 3: 0.1679 \n",
      "\n",
      "p-value from the Levene test on equal variance, variable: OD280/OD315 of diluted wines\n",
      "0.0000\n",
      "\n",
      "p-value from the Bartlett test on equal variance, variable: OD280/OD315 of diluted wines\n",
      "0.0000\n",
      "\n",
      "\n",
      "p-values from the D'Agostino-Pearson test on Gaussian distribution, variable: Proline\n",
      "Variety 1: 0.8004 \n",
      "Variety 2: 0.0030 \n",
      "Variety 3: 0.7354 \n",
      "\n",
      "p-values from the Shapiro-Wilk test on Gaussian distribution, variable: Proline\n",
      "Variety 1: 0.6579 \n",
      "Variety 2: 0.0009 \n",
      "Variety 3: 0.7079 \n",
      "\n",
      "p-value from the Levene test on equal variance, variable: Proline\n",
      "0.0001\n",
      "\n",
      "p-value from the Bartlett test on equal variance, variable: Proline\n",
      "0.0000\n",
      "\n"
     ]
    }
   ],
   "source": [
    "for i in range (1,14):\n",
    "    datasets = [ df_1.iloc[:,i], df_2.iloc[:,i], df_3.iloc[:,i] ]\n",
    "    dataset_labels = ['Variety 1:','Variety 2:','Variety 3:'] \n",
    "\n",
    "    print('')\n",
    "    print('p-values from the D\\'Agostino-Pearson test on Gaussian distribution, variable:', df_wine.columns[i])\n",
    "    c = 0\n",
    "    for dataset in datasets:\n",
    "      dagost_tests, dagost_pvalue = stats.normaltest(dataset)\n",
    "      print('%10s %1.4f ' % (dataset_labels[c], dagost_pvalue))\n",
    "      c += 1\n",
    "\n",
    "    print('')\n",
    "    print('p-values from the Shapiro-Wilk test on Gaussian distribution, variable:', df_wine.columns[i])\n",
    "    c = 0\n",
    "    for dataset in datasets:\n",
    "      shapiro_tests, shapiro_pvalue = stats.shapiro(dataset)\n",
    "      print('%10s %1.4f' % (dataset_labels[c], shapiro_pvalue))\n",
    "      c += 1\n",
    "\n",
    "    print('')\n",
    "    print('p-value from the Levene test on equal variance, variable:', df_wine.columns[i])\n",
    "    levene_tests, levene_pvalue = stats.levene(\n",
    "        df_1.iloc[:,i], df_2.iloc[:,i], df_3.iloc[:,i]\n",
    "    )\n",
    "    print('%1.4f' % levene_pvalue)\n",
    "    \n",
    "    print('')\n",
    "    print('p-value from the Bartlett test on equal variance, variable:', df_wine.columns[i])\n",
    "    bartlett_tests, bartlett_pvalue = stats.bartlett(\n",
    "        df_1.iloc[:,i], df_2.iloc[:,i], df_3.iloc[:,i]\n",
    "    )\n",
    "    print('%1.4f' % bartlett_pvalue)\n",
    "    print('')\n",
    "    "
   ]
  },
  {
   "cell_type": "markdown",
   "metadata": {},
   "source": [
    "Based on the D'Agostino-Pearson test with a significance level of 5%, there are only two variables where the null hypothesis (normal distribution) cannot be rejected in any of the three samples: \n",
    "- Alcohol\n",
    "- OD280/OD315 of diluted wines\n",
    "\n",
    "The Levene and the Bartlett tests indicate that the variances of the OD280/OD315 variable may differ between the three  samples. In case of the Alcohol variable, the test results are not significant."
   ]
  },
  {
   "cell_type": "markdown",
   "metadata": {},
   "source": [
    "Many variables seem to have a slight positive skew. We therefore want to see if a log transformation can lead to a normal distribution."
   ]
  },
  {
   "cell_type": "code",
   "execution_count": 11,
   "metadata": {},
   "outputs": [
    {
     "name": "stdout",
     "output_type": "stream",
     "text": [
      "\n",
      "p-values from the D'Agostino-Pearson test on Gaussian distribution, variable: log Alcohol\n",
      "Variety 1: 0.6213 \n",
      "Variety 2: 0.8270 \n",
      "Variety 3: 0.5554 \n",
      "\n",
      "p-values from the Shapiro-Wilk test on Gaussian distribution, variable: log Alcohol\n",
      "Variety 1: 0.5909 \n",
      "Variety 2: 0.9237 \n",
      "Variety 3: 0.6152 \n",
      "\n",
      "p-value from the Levene test on equal variance, variable: log Alcohol\n",
      "0.1301\n",
      "\n",
      "p-value from the Bartlett test on equal variance, variable: log Alcohol\n",
      "0.0978\n",
      "\n",
      "\n",
      "p-values from the D'Agostino-Pearson test on Gaussian distribution, variable: log Malic acid\n",
      "Variety 1: 0.0003 \n",
      "Variety 2: 0.1711 \n",
      "Variety 3: 0.0609 \n",
      "\n",
      "p-values from the Shapiro-Wilk test on Gaussian distribution, variable: log Malic acid\n",
      "Variety 1: 0.0000 \n",
      "Variety 2: 0.2061 \n",
      "Variety 3: 0.0260 \n",
      "\n",
      "p-value from the Levene test on equal variance, variable: log Malic acid\n",
      "0.0146\n",
      "\n",
      "p-value from the Bartlett test on equal variance, variable: log Malic acid\n",
      "0.0094\n",
      "\n",
      "\n",
      "p-values from the D'Agostino-Pearson test on Gaussian distribution, variable: log Ash\n",
      "Variety 1: 0.4453 \n",
      "Variety 2: 0.5726 \n",
      "Variety 3: 0.1933 \n",
      "\n",
      "p-values from the Shapiro-Wilk test on Gaussian distribution, variable: log Ash\n",
      "Variety 1: 0.3661 \n",
      "Variety 2: 0.5499 \n",
      "Variety 3: 0.1196 \n",
      "\n",
      "p-value from the Levene test on equal variance, variable: log Ash\n",
      "0.0045\n",
      "\n",
      "p-value from the Bartlett test on equal variance, variable: log Ash\n",
      "0.0001\n",
      "\n",
      "\n",
      "p-values from the D'Agostino-Pearson test on Gaussian distribution, variable: log Alcalinity of ash\n",
      "Variety 1: 0.1781 \n",
      "Variety 2: 0.4122 \n",
      "Variety 3: 0.2969 \n",
      "\n",
      "p-values from the Shapiro-Wilk test on Gaussian distribution, variable: log Alcalinity of ash\n",
      "Variety 1: 0.4170 \n",
      "Variety 2: 0.2050 \n",
      "Variety 3: 0.3147 \n",
      "\n",
      "p-value from the Levene test on equal variance, variable: log Alcalinity of ash\n",
      "0.0566\n",
      "\n",
      "p-value from the Bartlett test on equal variance, variable: log Alcalinity of ash\n",
      "0.0061\n",
      "\n",
      "\n",
      "p-values from the D'Agostino-Pearson test on Gaussian distribution, variable: log Magnesium\n",
      "Variety 1: 0.3825 \n",
      "Variety 2: 0.0000 \n",
      "Variety 3: 0.2275 \n",
      "\n",
      "p-values from the Shapiro-Wilk test on Gaussian distribution, variable: log Magnesium\n",
      "Variety 1: 0.6453 \n",
      "Variety 2: 0.0000 \n",
      "Variety 3: 0.1366 \n",
      "\n",
      "p-value from the Levene test on equal variance, variable: log Magnesium\n",
      "0.3791\n",
      "\n",
      "p-value from the Bartlett test on equal variance, variable: log Magnesium\n",
      "0.0008\n",
      "\n",
      "\n",
      "p-values from the D'Agostino-Pearson test on Gaussian distribution, variable: log Total phenols\n",
      "Variety 1: 0.1924 \n",
      "Variety 2: 0.3838 \n",
      "Variety 3: 0.3512 \n",
      "\n",
      "p-values from the Shapiro-Wilk test on Gaussian distribution, variable: log Total phenols\n",
      "Variety 1: 0.1289 \n",
      "Variety 2: 0.4875 \n",
      "Variety 3: 0.6183 \n",
      "\n",
      "p-value from the Levene test on equal variance, variable: log Total phenols\n",
      "0.0001\n",
      "\n",
      "p-value from the Bartlett test on equal variance, variable: log Total phenols\n",
      "0.0000\n",
      "\n",
      "\n",
      "p-values from the D'Agostino-Pearson test on Gaussian distribution, variable: log Flavanoids\n",
      "Variety 1: 0.4530 \n",
      "Variety 2: 0.2751 \n",
      "Variety 3: 0.5363 \n",
      "\n",
      "p-values from the Shapiro-Wilk test on Gaussian distribution, variable: log Flavanoids\n",
      "Variety 1: 0.6831 \n",
      "Variety 2: 0.4875 \n",
      "Variety 3: 0.1837 \n",
      "\n",
      "p-value from the Levene test on equal variance, variable: log Flavanoids\n",
      "0.0000\n",
      "\n",
      "p-value from the Bartlett test on equal variance, variable: log Flavanoids\n",
      "0.0000\n",
      "\n",
      "\n",
      "p-values from the D'Agostino-Pearson test on Gaussian distribution, variable: log Nonflavanoid phenols\n",
      "Variety 1: 0.8945 \n",
      "Variety 2: 0.2748 \n",
      "Variety 3: 0.0058 \n",
      "\n",
      "p-values from the Shapiro-Wilk test on Gaussian distribution, variable: log Nonflavanoid phenols\n",
      "Variety 1: 0.5842 \n",
      "Variety 2: 0.1298 \n",
      "Variety 3: 0.0001 \n",
      "\n",
      "p-value from the Levene test on equal variance, variable: log Nonflavanoid phenols\n",
      "0.0098\n",
      "\n",
      "p-value from the Bartlett test on equal variance, variable: log Nonflavanoid phenols\n",
      "0.0042\n",
      "\n",
      "\n",
      "p-values from the D'Agostino-Pearson test on Gaussian distribution, variable: log Proanthocyanins\n",
      "Variety 1: 0.8134 \n",
      "Variety 2: 0.0002 \n",
      "Variety 3: 0.4103 \n",
      "\n",
      "p-values from the Shapiro-Wilk test on Gaussian distribution, variable: log Proanthocyanins\n",
      "Variety 1: 0.6551 \n",
      "Variety 2: 0.0005 \n",
      "Variety 3: 0.6968 \n",
      "\n",
      "p-value from the Levene test on equal variance, variable: log Proanthocyanins\n",
      "0.0240\n",
      "\n",
      "p-value from the Bartlett test on equal variance, variable: log Proanthocyanins\n",
      "0.0000\n",
      "\n",
      "\n",
      "p-values from the D'Agostino-Pearson test on Gaussian distribution, variable: log Color intensity\n",
      "Variety 1: 0.9566 \n",
      "Variety 2: 0.6895 \n",
      "Variety 3: 0.0466 \n",
      "\n",
      "p-values from the Shapiro-Wilk test on Gaussian distribution, variable: log Color intensity\n",
      "Variety 1: 0.8064 \n",
      "Variety 2: 0.7560 \n",
      "Variety 3: 0.1246 \n",
      "\n",
      "p-value from the Levene test on equal variance, variable: log Color intensity\n",
      "0.0419\n",
      "\n",
      "p-value from the Bartlett test on equal variance, variable: log Color intensity\n",
      "0.0567\n",
      "\n",
      "\n",
      "p-values from the D'Agostino-Pearson test on Gaussian distribution, variable: log Hue\n",
      "Variety 1: 0.3611 \n",
      "Variety 2: 0.8115 \n",
      "Variety 3: 0.2103 \n",
      "\n",
      "p-values from the Shapiro-Wilk test on Gaussian distribution, variable: log Hue\n",
      "Variety 1: 0.2269 \n",
      "Variety 2: 0.8828 \n",
      "Variety 3: 0.0845 \n",
      "\n",
      "p-value from the Levene test on equal variance, variable: log Hue\n",
      "0.0091\n",
      "\n",
      "p-value from the Bartlett test on equal variance, variable: log Hue\n",
      "0.0062\n",
      "\n",
      "\n",
      "p-values from the D'Agostino-Pearson test on Gaussian distribution, variable: log OD280/OD315 of diluted wines\n",
      "Variety 1: 0.1142 \n",
      "Variety 2: 0.0629 \n",
      "Variety 3: 0.6456 \n",
      "\n",
      "p-values from the Shapiro-Wilk test on Gaussian distribution, variable: log OD280/OD315 of diluted wines\n",
      "Variety 1: 0.1851 \n",
      "Variety 2: 0.0205 \n",
      "Variety 3: 0.3796 \n",
      "\n",
      "p-value from the Levene test on equal variance, variable: log OD280/OD315 of diluted wines\n",
      "0.0092\n",
      "\n",
      "p-value from the Bartlett test on equal variance, variable: log OD280/OD315 of diluted wines\n",
      "0.0009\n",
      "\n",
      "\n",
      "p-values from the D'Agostino-Pearson test on Gaussian distribution, variable: log Proline\n",
      "Variety 1: 0.5266 \n",
      "Variety 2: 0.3997 \n",
      "Variety 3: 0.8490 \n",
      "\n",
      "p-values from the Shapiro-Wilk test on Gaussian distribution, variable: log Proline\n",
      "Variety 1: 0.4116 \n",
      "Variety 2: 0.3565 \n",
      "Variety 3: 0.8550 \n",
      "\n",
      "p-value from the Levene test on equal variance, variable: log Proline\n",
      "0.0048\n",
      "\n",
      "p-value from the Bartlett test on equal variance, variable: log Proline\n",
      "0.0008\n",
      "\n"
     ]
    }
   ],
   "source": [
    "for i in range (1,14):\n",
    "    datasets = [ np.log(df_1.iloc[:,i]), np.log(df_2.iloc[:,i]), np.log(df_3.iloc[:,i]) ]\n",
    "    dataset_labels = ['Variety 1:','Variety 2:','Variety 3:'] \n",
    "\n",
    "    print('')\n",
    "    print('p-values from the D\\'Agostino-Pearson test on Gaussian distribution, variable: log', df_wine.columns[i])\n",
    "    c = 0\n",
    "    for dataset in datasets:\n",
    "      dagost_tests, dagost_pvalue = stats.normaltest(dataset)\n",
    "      print('%10s %1.4f ' % (dataset_labels[c], dagost_pvalue))\n",
    "      c += 1\n",
    "\n",
    "    print('')\n",
    "    print('p-values from the Shapiro-Wilk test on Gaussian distribution, variable: log', df_wine.columns[i])\n",
    "    c = 0\n",
    "    for dataset in datasets:\n",
    "      shapiro_tests, shapiro_pvalue = stats.shapiro(dataset)\n",
    "      print('%10s %1.4f ' % (dataset_labels[c], shapiro_pvalue))\n",
    "      c += 1\n",
    "\n",
    "    print('')\n",
    "    print('p-value from the Levene test on equal variance, variable: log', df_wine.columns[i])\n",
    "    levene_tests, levene_pvalue = stats.levene(\n",
    "        np.log(df_1.iloc[:,i]), np.log(df_2.iloc[:,i]), np.log(df_3.iloc[:,i])\n",
    "    )\n",
    "    print('%1.4f' % levene_pvalue)\n",
    "    \n",
    "    print('')\n",
    "    print('p-value from the Bartlett test on equal variance, variable: log', df_wine.columns[i])\n",
    "    bartlett_tests, bartlett_pvalue = stats.bartlett(\n",
    "        np.log(df_1.iloc[:,i]), np.log(df_2.iloc[:,i]), np.log(df_3.iloc[:,i])\n",
    "    )\n",
    "    print('%1.4f' % bartlett_pvalue)\n",
    "    print('')"
   ]
  },
  {
   "cell_type": "markdown",
   "metadata": {},
   "source": [
    "The log transformation helps indeed. Now there are several variables where the null hypothesis of a normal distribution cannot be rejected in any of the three samples (based on both the D'Agostino-Pearson test and the Shapiro Wilk test with significance level of 5%): \n",
    "- log Alcohol\n",
    "- log Ash\n",
    "- log Alcalinity of ash\n",
    "- log Total phenols\n",
    "- log Flavanoids\n",
    "- log Hue\n",
    "- log Proline\n",
    "\n",
    "Let's have a look on the transformed variables:"
   ]
  },
  {
   "cell_type": "code",
   "execution_count": 12,
   "metadata": {},
   "outputs": [
    {
     "data": {
      "image/png": "[encoded data removed]",
      "text/plain": [
       "<Figure size 432x288 with 1 Axes>"
      ]
     },
     "metadata": {
      "needs_background": "light"
     },
     "output_type": "display_data"
    },
    {
     "data": {
      "image/png": "[encoded data removed]",
      "text/plain": [
       "<Figure size 432x288 with 1 Axes>"
      ]
     },
     "metadata": {
      "needs_background": "light"
     },
     "output_type": "display_data"
    },
    {
     "data": {
      "image/png": "[encoded data removed]",
      "text/plain": [
       "<Figure size 432x288 with 1 Axes>"
      ]
     },
     "metadata": {
      "needs_background": "light"
     },
     "output_type": "display_data"
    },
    {
     "data": {
      "image/png": "[encoded data removed]",
      "text/plain": [
       "<Figure size 432x288 with 1 Axes>"
      ]
     },
     "metadata": {
      "needs_background": "light"
     },
     "output_type": "display_data"
    },
    {
     "data": {
      "image/png": "[encoded data removed]",
      "text/plain": [
       "<Figure size 432x288 with 1 Axes>"
      ]
     },
     "metadata": {
      "needs_background": "light"
     },
     "output_type": "display_data"
    },
    {
     "data": {
      "image/png": "[encoded data removed]",
      "text/plain": [
       "<Figure size 432x288 with 1 Axes>"
      ]
     },
     "metadata": {
      "needs_background": "light"
     },
     "output_type": "display_data"
    },
    {
     "data": {
      "image/png": "[encoded data removed]",
      "text/plain": [
       "<Figure size 432x288 with 1 Axes>"
      ]
     },
     "metadata": {
      "needs_background": "light"
     },
     "output_type": "display_data"
    },
    {
     "data": {
      "image/png": "[encoded data removed]",
      "text/plain": [
       "<Figure size 432x288 with 1 Axes>"
      ]
     },
     "metadata": {
      "needs_background": "light"
     },
     "output_type": "display_data"
    },
    {
     "data": {
      "image/png": "[encoded data removed]",
      "text/plain": [
       "<Figure size 432x288 with 1 Axes>"
      ]
     },
     "metadata": {
      "needs_background": "light"
     },
     "output_type": "display_data"
    },
    {
     "data": {
      "image/png": "[encoded data removed]",
      "text/plain": [
       "<Figure size 432x288 with 1 Axes>"
      ]
     },
     "metadata": {
      "needs_background": "light"
     },
     "output_type": "display_data"
    },
    {
     "data": {
      "image/png": "[encoded data removed]",
      "text/plain": [
       "<Figure size 432x288 with 1 Axes>"
      ]
     },
     "metadata": {
      "needs_background": "light"
     },
     "output_type": "display_data"
    },
    {
     "data": {
      "image/png": "[encoded data removed]",
      "text/plain": [
       "<Figure size 432x288 with 1 Axes>"
      ]
     },
     "metadata": {
      "needs_background": "light"
     },
     "output_type": "display_data"
    },
    {
     "data": {
      "image/png": "[encoded data removed]",
      "text/plain": [
       "<Figure size 432x288 with 1 Axes>"
      ]
     },
     "metadata": {
      "needs_background": "light"
     },
     "output_type": "display_data"
    }
   ],
   "source": [
    "for i in range(1,14): # Loop over variables.\n",
    "    c = 1\n",
    "    for df in df_total[0:3]: # Loop over varieties.\n",
    "        np.log(df.iloc[:,i]).plot(kind = \"hist\", fill = True, alpha = 0.2, histtype = 'step', label = 'variety ' + str(c))\n",
    "        c += 1\n",
    "    plt.legend()\n",
    "    plt.xlabel('log ' + df_wine.columns[i])\n",
    "    plt.show()"
   ]
  },
  {
   "cell_type": "markdown",
   "metadata": {},
   "source": [
    "## Search for Variables Suitable for Declaration Testing"
   ]
  },
  {
   "cell_type": "markdown",
   "metadata": {},
   "source": [
    "Which of the 13 variables are most suitable for distinguishing between the wine samples of the 3 varieties? In order to answer this question, we first perform both a **Kolmogorov-Smirnov test** and a **Mann-Whitney U test** on all variables. The log variants of the variables are not tested because the results are the same as with the variables without logarithmization."
   ]
  },
  {
   "cell_type": "markdown",
   "metadata": {},
   "source": [
    "We choose this tests, because the data are unpaired and in most cases not normally distributed."
   ]
  },
  {
   "cell_type": "markdown",
   "metadata": {},
   "source": [
    "### The Kolmogorov-Smirnov test for all Parameters:"
   ]
  },
  {
   "cell_type": "code",
   "execution_count": 13,
   "metadata": {},
   "outputs": [
    {
     "name": "stdout",
     "output_type": "stream",
     "text": [
      "\n",
      "Kolmogorov-Smirnov test for Alcohol:\n",
      "variety 1 vs. variety 2: 0.0000\n",
      "variety 1 vs. variety 3: 0.0002\n",
      "variety 2 vs. variety 3: 0.0000\n",
      "\n",
      "Kolmogorov-Smirnov test for Malic acid:\n",
      "variety 1 vs. variety 2: 0.0067\n",
      "variety 1 vs. variety 3: 0.0000\n",
      "variety 2 vs. variety 3: 0.0000\n",
      "\n",
      "Kolmogorov-Smirnov test for Ash:\n",
      "variety 1 vs. variety 2: 0.0002\n",
      "variety 1 vs. variety 3: 0.2232\n",
      "variety 2 vs. variety 3: 0.0012\n",
      "\n",
      "Kolmogorov-Smirnov test for Alcalinity of ash:\n",
      "variety 1 vs. variety 2: 0.0000\n",
      "variety 1 vs. variety 3: 0.0000\n",
      "variety 2 vs. variety 3: 0.0564\n",
      "\n",
      "Kolmogorov-Smirnov test for Magnesium:\n",
      "variety 1 vs. variety 2: 0.0000\n",
      "variety 1 vs. variety 3: 0.0061\n",
      "variety 2 vs. variety 3: 0.0030\n",
      "\n",
      "Kolmogorov-Smirnov test for Total phenols:\n",
      "variety 1 vs. variety 2: 0.0000\n",
      "variety 1 vs. variety 3: 0.0000\n",
      "variety 2 vs. variety 3: 0.0000\n",
      "\n",
      "Kolmogorov-Smirnov test for Flavanoids:\n",
      "variety 1 vs. variety 2: 0.0000\n",
      "variety 1 vs. variety 3: 0.0000\n",
      "variety 2 vs. variety 3: 0.0000\n",
      "\n",
      "Kolmogorov-Smirnov test for Nonflavanoid phenols:\n",
      "variety 1 vs. variety 2: 0.0008\n",
      "variety 1 vs. variety 3: 0.0000\n",
      "variety 2 vs. variety 3: 0.0019\n",
      "\n",
      "Kolmogorov-Smirnov test for Proanthocyanins:\n",
      "variety 1 vs. variety 2: 0.0014\n",
      "variety 1 vs. variety 3: 0.0000\n",
      "variety 2 vs. variety 3: 0.0000\n",
      "\n",
      "Kolmogorov-Smirnov test for Color intensity:\n",
      "variety 1 vs. variety 2: 0.0000\n",
      "variety 1 vs. variety 3: 0.0000\n",
      "variety 2 vs. variety 3: 0.0000\n",
      "\n",
      "Kolmogorov-Smirnov test for Hue:\n",
      "variety 1 vs. variety 2: 0.1291\n",
      "variety 1 vs. variety 3: 0.0000\n",
      "variety 2 vs. variety 3: 0.0000\n",
      "\n",
      "Kolmogorov-Smirnov test for OD280/OD315 of diluted wines:\n",
      "variety 1 vs. variety 2: 0.0019\n",
      "variety 1 vs. variety 3: 0.0000\n",
      "variety 2 vs. variety 3: 0.0000\n",
      "\n",
      "Kolmogorov-Smirnov test for Proline:\n",
      "variety 1 vs. variety 2: 0.0000\n",
      "variety 1 vs. variety 3: 0.0000\n",
      "variety 2 vs. variety 3: 0.0000\n"
     ]
    }
   ],
   "source": [
    "for i in range(1,14):\n",
    "    ks_stats_12, ks_pvalue_12 = stats.ks_2samp(df_1.iloc[:,i], df_2.iloc[:,i])\n",
    "    ks_stats_13, ks_pvalue_13 = stats.ks_2samp(df_1.iloc[:,i], df_3.iloc[:,i])\n",
    "    ks_stats_23, ks_pvalue_23 = stats.ks_2samp(df_2.iloc[:,i], df_3.iloc[:,i])\n",
    "\n",
    "    print('')\n",
    "    print('Kolmogorov-Smirnov test for ' + df_wine.columns.values[i] + ':')\n",
    "    print('variety 1 vs. variety 2: %1.4f' % ks_pvalue_12)\n",
    "    print('variety 1 vs. variety 3: %1.4f' % ks_pvalue_13)\n",
    "    print('variety 2 vs. variety 3: %1.4f' % ks_pvalue_23)"
   ]
  },
  {
   "cell_type": "markdown",
   "metadata": {},
   "source": [
    "### The Mann-Whitney U test for all variables:"
   ]
  },
  {
   "cell_type": "code",
   "execution_count": 14,
   "metadata": {},
   "outputs": [
    {
     "name": "stdout",
     "output_type": "stream",
     "text": [
      "\n",
      "Mann-Whitney U test for Alcohol:\n",
      "variety 1 vs. variety 2: 0.0000\n",
      "variety 1 vs. variety 3: 0.0000\n",
      "variety 2 vs. variety 3: 0.0000\n",
      "\n",
      "Mann-Whitney U test for Malic acid:\n",
      "variety 1 vs. variety 2: 0.0186\n",
      "variety 1 vs. variety 3: 0.0000\n",
      "variety 2 vs. variety 3: 0.0000\n",
      "\n",
      "Mann-Whitney U test for Ash:\n",
      "variety 1 vs. variety 2: 0.0000\n",
      "variety 1 vs. variety 3: 0.1036\n",
      "variety 2 vs. variety 3: 0.0001\n",
      "\n",
      "Mann-Whitney U test for Alcalinity of ash:\n",
      "variety 1 vs. variety 2: 0.0000\n",
      "variety 1 vs. variety 3: 0.0000\n",
      "variety 2 vs. variety 3: 0.0318\n",
      "\n",
      "Mann-Whitney U test for Magnesium:\n",
      "variety 1 vs. variety 2: 0.0000\n",
      "variety 1 vs. variety 3: 0.0004\n",
      "variety 2 vs. variety 3: 0.0013\n",
      "\n",
      "Mann-Whitney U test for Total phenols:\n",
      "variety 1 vs. variety 2: 0.0000\n",
      "variety 1 vs. variety 3: 0.0000\n",
      "variety 2 vs. variety 3: 0.0000\n",
      "\n",
      "Mann-Whitney U test for Flavanoids:\n",
      "variety 1 vs. variety 2: 0.0000\n",
      "variety 1 vs. variety 3: 0.0000\n",
      "variety 2 vs. variety 3: 0.0000\n",
      "\n",
      "Mann-Whitney U test for Nonflavanoid phenols:\n",
      "variety 1 vs. variety 2: 0.0008\n",
      "variety 1 vs. variety 3: 0.0000\n",
      "variety 2 vs. variety 3: 0.0029\n",
      "\n",
      "Mann-Whitney U test for Proanthocyanins:\n",
      "variety 1 vs. variety 2: 0.0005\n",
      "variety 1 vs. variety 3: 0.0000\n",
      "variety 2 vs. variety 3: 0.0000\n",
      "\n",
      "Mann-Whitney U test for Color intensity:\n",
      "variety 1 vs. variety 2: 0.0000\n",
      "variety 1 vs. variety 3: 0.0001\n",
      "variety 2 vs. variety 3: 0.0000\n",
      "\n",
      "Mann-Whitney U test for Hue:\n",
      "variety 1 vs. variety 2: 0.1677\n",
      "variety 1 vs. variety 3: 0.0000\n",
      "variety 2 vs. variety 3: 0.0000\n",
      "\n",
      "Mann-Whitney U test for OD280/OD315 of diluted wines:\n",
      "variety 1 vs. variety 2: 0.0001\n",
      "variety 1 vs. variety 3: 0.0000\n",
      "variety 2 vs. variety 3: 0.0000\n",
      "\n",
      "Mann-Whitney U test for Proline:\n",
      "variety 1 vs. variety 2: 0.0000\n",
      "variety 1 vs. variety 3: 0.0000\n",
      "variety 2 vs. variety 3: 0.0000\n"
     ]
    }
   ],
   "source": [
    "for i in range(1,14):\n",
    "    mwu_stats_12, mwu_pvalue_12 = stats.mannwhitneyu(df_1.iloc[:,i], df_2.iloc[:,i])\n",
    "    mwu_stats_13, mwu_pvalue_13 = stats.mannwhitneyu(df_1.iloc[:,i], df_3.iloc[:,i])\n",
    "    mwu_stats_23, mwu_pvalue_23 = stats.mannwhitneyu(df_2.iloc[:,i], df_3.iloc[:,i])\n",
    "\n",
    "    print('')\n",
    "    print('Mann-Whitney U test for ' + df_wine.columns.values[i] + ':')\n",
    "    print('variety 1 vs. variety 2: %1.4f' % mwu_pvalue_12)\n",
    "    print('variety 1 vs. variety 3: %1.4f' % mwu_pvalue_13)\n",
    "    print('variety 2 vs. variety 3: %1.4f' % mwu_pvalue_23)"
   ]
  },
  {
   "cell_type": "markdown",
   "metadata": {},
   "source": [
    "### The unpaired t-test for the (supposedly) normally distributed variables:"
   ]
  },
  {
   "cell_type": "code",
   "execution_count": 15,
   "metadata": {},
   "outputs": [
    {
     "name": "stdout",
     "output_type": "stream",
     "text": [
      "\n",
      "Unpaired t-test (non-equal variances) for Alcohol:\n",
      "variety 1 vs. variety 2: 0.0000\n",
      "variety 1 vs. variety 3: 0.0000\n",
      "variety 2 vs. variety 3: 0.0000\n",
      "\n",
      "Unpaired t-test (non-equal variances) for OD280/OD315 of diluted wines:\n",
      "variety 1 vs. variety 2: 0.0000\n",
      "variety 1 vs. variety 3: 0.0000\n",
      "variety 2 vs. variety 3: 0.0000\n",
      "\n",
      "Unpaired t-test (non-equal variances) for log Alcohol:\n",
      "variety 1 vs. variety 2: 0.0000\n",
      "variety 1 vs. variety 3: 0.0000\n",
      "variety 2 vs. variety 3: 0.0000\n",
      "\n",
      "Unpaired t-test (non-equal variances) for log Ash:\n",
      "variety 1 vs. variety 2: 0.0000\n",
      "variety 1 vs. variety 3: 0.2042\n",
      "variety 2 vs. variety 3: 0.0003\n",
      "\n",
      "Unpaired t-test (non-equal variances) for log Alcalinity of ash:\n",
      "variety 1 vs. variety 2: 0.0000\n",
      "variety 1 vs. variety 3: 0.0000\n",
      "variety 2 vs. variety 3: 0.0821\n",
      "\n",
      "Unpaired t-test (non-equal variances) for log Total phenols:\n",
      "variety 1 vs. variety 2: 0.0000\n",
      "variety 1 vs. variety 3: 0.0000\n",
      "variety 2 vs. variety 3: 0.0000\n",
      "\n",
      "Unpaired t-test (non-equal variances) for log Flavanoids:\n",
      "variety 1 vs. variety 2: 0.0000\n",
      "variety 1 vs. variety 3: 0.0000\n",
      "variety 2 vs. variety 3: 0.0000\n",
      "\n",
      "Unpaired t-test (non-equal variances) for log Hue:\n",
      "variety 1 vs. variety 2: 0.3117\n",
      "variety 1 vs. variety 3: 0.0000\n",
      "variety 2 vs. variety 3: 0.0000\n",
      "\n",
      "Unpaired t-test (non-equal variances) for log Proline:\n",
      "variety 1 vs. variety 2: 0.0000\n",
      "variety 1 vs. variety 3: 0.0000\n",
      "variety 2 vs. variety 3: 0.0000\n"
     ]
    }
   ],
   "source": [
    "vars_norm = ['Alcohol', 'OD280/OD315 of diluted wines']\n",
    "for var_norm in vars_norm:\n",
    "    tt_stats_12, tt_pvalue_12 = stats.ttest_ind(df_1[var_norm], df_2[var_norm], equal_var = False)\n",
    "    tt_stats_13, tt_pvalue_13 = stats.ttest_ind(df_1[var_norm], df_3[var_norm], equal_var = False)\n",
    "    tt_stats_23, tt_pvalue_23 = stats.ttest_ind(df_2[var_norm], df_3[var_norm], equal_var = False)\n",
    "\n",
    "    print('')\n",
    "    print('Unpaired t-test (non-equal variances) for ' + var_norm + ':')\n",
    "    print('variety 1 vs. variety 2: %1.4f' % tt_pvalue_12)\n",
    "    print('variety 1 vs. variety 3: %1.4f' % tt_pvalue_13)\n",
    "    print('variety 2 vs. variety 3: %1.4f' % tt_pvalue_23)\n",
    "\n",
    "vars_norm = ['Alcohol', 'Ash', 'Alcalinity of ash', 'Total phenols', 'Flavanoids', 'Hue', 'Proline']\n",
    "for var_norm in vars_norm:\n",
    "    tt_stats_12, tt_pvalue_12 = stats.ttest_ind(np.log(df_1[var_norm]), np.log(df_2[var_norm]), equal_var = False)\n",
    "    tt_stats_13, tt_pvalue_13 = stats.ttest_ind(np.log(df_1[var_norm]), np.log(df_3[var_norm]), equal_var = False)\n",
    "    tt_stats_23, tt_pvalue_23 = stats.ttest_ind(np.log(df_2[var_norm]), np.log(df_3[var_norm]), equal_var = False)\n",
    "\n",
    "    print('')\n",
    "    print('Unpaired t-test (non-equal variances) for log ' + var_norm + ':')\n",
    "    print('variety 1 vs. variety 2: %1.4f' % tt_pvalue_12)\n",
    "    print('variety 1 vs. variety 3: %1.4f' % tt_pvalue_13)\n",
    "    print('variety 2 vs. variety 3: %1.4f' % tt_pvalue_23)"
   ]
  },
  {
   "cell_type": "markdown",
   "metadata": {},
   "source": [
    "### Conclusion from the Variable Testing"
   ]
  },
  {
   "cell_type": "markdown",
   "metadata": {},
   "source": [
    "As we see, the following variables give very low p-values (<0.001), when we test the wines of the three varieties against each other:\n",
    "- **Alcohol**\n",
    "- **Total phenols**\n",
    "- **Flavonoids**\n",
    "- **Proline**"
   ]
  },
  {
   "cell_type": "markdown",
   "metadata": {},
   "source": [
    "With any of these variables, the validity of the wine declaration can be tested by means of the Kolmogorow-Smirnow test, the Mann-Whitney U test and the unpaired t-test (unequal variances). With the exception of Alcohol, the unpaired t-tests are run with log transformed values.\n",
    "\n",
    "We decide to only use the variable **Alcohol** in order to test whether the wine declaration has been properly done. We do this for practical and financial reasons. The alcohol content can be measured very easily, which is why an efficiency gain can best be achieved."
   ]
  },
  {
   "cell_type": "markdown",
   "metadata": {},
   "source": [
    "## Proof of Principle Testing"
   ]
  },
  {
   "cell_type": "markdown",
   "metadata": {},
   "source": [
    "In order to gain evidence that our approach is successfull, we want to test it on a new dataset. We ask a winegrower to supply us with a new sample of wine variety 2. We first test this sample the old way, i.e. make extensive laboratory analyzes and collect data for all 14 variables. As a result, we are convinced that all observations indeed belong to variety 2. "
   ]
  },
  {
   "cell_type": "markdown",
   "metadata": {},
   "source": [
    "### Visualisation of the test dataset"
   ]
  },
  {
   "cell_type": "code",
   "execution_count": 16,
   "metadata": {},
   "outputs": [
    {
     "data": {
      "image/png": "[encoded data removed]",
      "text/plain": [
       "<Figure size 432x288 with 1 Axes>"
      ]
     },
     "metadata": {
      "needs_background": "light"
     },
     "output_type": "display_data"
    }
   ],
   "source": [
    "count, bins, ignored = plt.hist(df_test1['Alcohol'], bins = 7)\n",
    "plt.show()"
   ]
  },
  {
   "cell_type": "code",
   "execution_count": 17,
   "metadata": {},
   "outputs": [
    {
     "data": {
      "image/png": "[encoded data removed]",
      "text/plain": [
       "<Figure size 432x288 with 1 Axes>"
      ]
     },
     "metadata": {
      "needs_background": "light"
     },
     "output_type": "display_data"
    }
   ],
   "source": [
    "# Extra graphs for Alcohol, test sample\n",
    "\n",
    "# nonparametric approach.\n",
    "fig, ax = plt.subplots()\n",
    "colors = ['darkblue','orange', 'green']\n",
    "cn = 0\n",
    "c = 1\n",
    "# graphs for varieties.\n",
    "for df in df_total[0:3]:\n",
    "    kde = stats.gaussian_kde(df['Alcohol'])\n",
    "    xs = np.linspace(10.75, 15.25, num=100)\n",
    "    ys = kde(xs)\n",
    "    ax.plot(xs, ys, color = colors[cn], label = 'variety ' + str(c))\n",
    "    plt.fill_between(xs,ys, color = colors[cn], alpha = 0.2)\n",
    "    cn += 1\n",
    "    c += 1\n",
    "# graph for new sample.\n",
    "kde = stats.gaussian_kde(df_test1['Alcohol'])  \n",
    "xs = np.linspace(10.75, 15.25, num=100)\n",
    "ys = kde(xs)\n",
    "ax.plot(xs, ys, color = 'red', ls = '--', label = 'test sample')\n",
    "# finalize plot.\n",
    "plt.legend()\n",
    "plt.xlabel('Alcohol')\n",
    "plt.ylabel('Density')\n",
    "plt.savefig('hist_testsample.png', dpi = 600)\n",
    "plt.show()"
   ]
  },
  {
   "cell_type": "markdown",
   "metadata": {},
   "source": [
    "### Tests for normal distribution and equal variance of the test dataset"
   ]
  },
  {
   "cell_type": "code",
   "execution_count": 18,
   "metadata": {},
   "outputs": [
    {
     "name": "stdout",
     "output_type": "stream",
     "text": [
      "\n",
      "p-values from the D'Agostino-Pearson test on Gaussian distribution, variable: Alcohol\n",
      "Test data: 0.0003 \n",
      "\n",
      "p-values from the Shapiro-Wilk test on Gaussian distribution, variable: Alcohol\n",
      "Test data: 0.0086 \n"
     ]
    }
   ],
   "source": [
    "print('')\n",
    "print('p-values from the D\\'Agostino-Pearson test on Gaussian distribution, variable: Alcohol')\n",
    "dagost_tests, dagost_pvalue = stats.normaltest(df_test1['Alcohol'])\n",
    "print('Test data: %1.4f ' % dagost_pvalue)\n",
    "\n",
    "print('')\n",
    "print('p-values from the Shapiro-Wilk test on Gaussian distribution, variable: Alcohol')\n",
    "shapiro_tests, shapiro_pvalue = stats.shapiro(df_test1['Alcohol']) # D'Agostino-Pearson.\n",
    "print('Test data: %1.4f ' % shapiro_pvalue)\n"
   ]
  },
  {
   "cell_type": "markdown",
   "metadata": {},
   "source": [
    "**Conclusion:** The test sample may not be normally distributed. We therefore stick to the nonparametric tests."
   ]
  },
  {
   "cell_type": "markdown",
   "metadata": {},
   "source": [
    "### Statistical Tests in order to categorize the test data set"
   ]
  },
  {
   "cell_type": "markdown",
   "metadata": {},
   "source": [
    "### Kolmogorov-Smirnov Test"
   ]
  },
  {
   "cell_type": "code",
   "execution_count": 19,
   "metadata": {},
   "outputs": [
    {
     "name": "stdout",
     "output_type": "stream",
     "text": [
      "\n",
      "Kolmogorov-Smirnov test for Alcohol\n",
      "variety 1 vs. test sample: 0.0000\n",
      "variety 2 vs. test sample: 0.6155\n",
      "variety 3 vs. test sample: 0.0000\n"
     ]
    }
   ],
   "source": [
    "ks_stats_1t1, ks_pvalue_1t1 = stats.ks_2samp(df_1['Alcohol'],df_test1['Alcohol'])\n",
    "ks_stats_2t1, ks_pvalue_2t1 = stats.ks_2samp(df_2['Alcohol'],df_test1['Alcohol'])\n",
    "ks_stats_3t1, ks_pvalue_3t1 = stats.ks_2samp(df_3['Alcohol'],df_test1['Alcohol'])\n",
    "\n",
    "print('')\n",
    "print('Kolmogorov-Smirnov test for Alcohol')\n",
    "print('variety 1 vs. test sample: %1.4f' % ks_pvalue_1t1)\n",
    "print('variety 2 vs. test sample: %1.4f' % ks_pvalue_2t1)\n",
    "print('variety 3 vs. test sample: %1.4f' % ks_pvalue_3t1)"
   ]
  },
  {
   "cell_type": "markdown",
   "metadata": {},
   "source": [
    "**Conclusion:** The test sample behaves as expected."
   ]
  },
  {
   "cell_type": "markdown",
   "metadata": {},
   "source": [
    "### The Mann-Whitney U Test"
   ]
  },
  {
   "cell_type": "code",
   "execution_count": 20,
   "metadata": {},
   "outputs": [
    {
     "name": "stdout",
     "output_type": "stream",
     "text": [
      "\n",
      "Mann-Whitney U test for Alcohol\n",
      "variety 1 vs. test sample: 0.0000\n",
      "variety 2 vs. test sample: 0.2956\n",
      "variety 3 vs. test sample: 0.0000\n"
     ]
    }
   ],
   "source": [
    "mwu_stats_1t1, mwu_pvalue_1t1 = stats.mannwhitneyu(df_1['Alcohol'],df_test1['Alcohol'])\n",
    "mwu_stats_2t1, mwu_pvalue_2t1 = stats.mannwhitneyu(df_2['Alcohol'],df_test1['Alcohol'])\n",
    "mwu_stats_3t1, mwu_pvalue_3t1 = stats.mannwhitneyu(df_3['Alcohol'],df_test1['Alcohol'])\n",
    "\n",
    "print('')\n",
    "print('Mann-Whitney U test for Alcohol')\n",
    "print('variety 1 vs. test sample: %1.4f' % mwu_pvalue_1t1)\n",
    "print('variety 2 vs. test sample: %1.4f' % mwu_pvalue_2t1)\n",
    "print('variety 3 vs. test sample: %1.4f' % mwu_pvalue_3t1)"
   ]
  },
  {
   "cell_type": "markdown",
   "metadata": {},
   "source": [
    "**Conclusion:** The test sample behaves as expected."
   ]
  },
  {
   "cell_type": "markdown",
   "metadata": {},
   "source": [
    "## A new sample"
   ]
  },
  {
   "cell_type": "markdown",
   "metadata": {},
   "source": [
    "After the encouraging proof-of-principle, we apply the new process directly to a new wine shipment. According to the declaration of the winegrower, it is wine of variety 1. This time we do without extensive laboratory analyzes and only determine the alcohol content. The alcohol content of new sample has a histogramm as follows:"
   ]
  },
  {
   "cell_type": "code",
   "execution_count": 21,
   "metadata": {},
   "outputs": [
    {
     "data": {
      "image/png": "[encoded data removed]",
      "text/plain": [
       "<Figure size 432x288 with 1 Axes>"
      ]
     },
     "metadata": {
      "needs_background": "light"
     },
     "output_type": "display_data"
    }
   ],
   "source": [
    "count, bins, ignored = plt.hist(df_test2['Alcohol'], 6, density=True)\n",
    "plt.show()"
   ]
  },
  {
   "cell_type": "code",
   "execution_count": 22,
   "metadata": {},
   "outputs": [
    {
     "data": {
      "image/png": "[encoded data removed]",
      "text/plain": [
       "<Figure size 432x288 with 1 Axes>"
      ]
     },
     "metadata": {
      "needs_background": "light"
     },
     "output_type": "display_data"
    }
   ],
   "source": [
    "# Extra graphs for Alcohol, test sample\n",
    "\n",
    "# nonparametric approach.\n",
    "fig, ax = plt.subplots()\n",
    "colors = ['darkblue','orange', 'green']\n",
    "cn = 0\n",
    "c = 1\n",
    "# graphs for varieties.\n",
    "for df in df_total[0:3]:\n",
    "    kde = stats.gaussian_kde(df['Alcohol'])\n",
    "    xs = np.linspace(10.75, 15.25, num=100)\n",
    "    ys = kde(xs)\n",
    "    ax.plot(xs, ys, color = colors[cn], label = 'variety ' + str(c))\n",
    "    plt.fill_between(xs,ys, color = colors[cn], alpha = 0.2)\n",
    "    cn += 1\n",
    "    c += 1\n",
    "# graph for new sample.\n",
    "kde = stats.gaussian_kde(df_test2['Alcohol'])\n",
    "xs = np.linspace(10.75, 15.25, num=100)\n",
    "ys = kde(xs)\n",
    "ax.plot(xs, ys, color = 'red', ls = '--', label = 'new sample')\n",
    "# finalize plot.\n",
    "plt.legend()\n",
    "plt.xlabel('Alcohol')\n",
    "plt.ylabel('Density')\n",
    "plt.savefig('hist_newsample.png', dpi = 600)\n",
    "plt.show()"
   ]
  },
  {
   "cell_type": "markdown",
   "metadata": {},
   "source": [
    "The new sample looks normally distributed, what is confirmed by the tests:"
   ]
  },
  {
   "cell_type": "code",
   "execution_count": 23,
   "metadata": {},
   "outputs": [
    {
     "name": "stdout",
     "output_type": "stream",
     "text": [
      "\n",
      "p-values from the D'Agostino-Pearson test on Gaussian distribution, variable: Alcohol\n",
      "Test data: 0.8674 \n",
      "\n",
      "p-values from the Shapiro-Wilk test on Gaussian distribution, variable: Alcohol\n",
      "Test data: 0.9397 \n"
     ]
    }
   ],
   "source": [
    "print('')\n",
    "print('p-values from the D\\'Agostino-Pearson test on Gaussian distribution, variable: Alcohol')\n",
    "dagost_tests, dagost_pvalue = stats.normaltest(df_test2['Alcohol'])\n",
    "print('Test data: %1.4f ' % dagost_pvalue)\n",
    "\n",
    "print('')\n",
    "print('p-values from the Shapiro-Wilk test on Gaussian distribution, variable: Alcohol')\n",
    "shapiro_tests, shapiro_pvalue = stats.shapiro(df_test2['Alcohol'])\n",
    "print('Test data: %1.4f ' % shapiro_pvalue)"
   ]
  },
  {
   "cell_type": "markdown",
   "metadata": {},
   "source": [
    "We run the three statistical tests to verify the declaration."
   ]
  },
  {
   "cell_type": "code",
   "execution_count": 24,
   "metadata": {},
   "outputs": [
    {
     "name": "stdout",
     "output_type": "stream",
     "text": [
      "\n",
      "Kolmogorov-Smirnov test for Alcohol\n",
      "variety 1 vs. new sample: 0.1372\n",
      "variety 2 vs. new sample: 0.0000\n",
      "variety 3 vs. new sample: 0.0632\n",
      "\n",
      "Mann-Whitney U test for Alcohol\n",
      "variety 1 vs. new sample: 0.0632\n",
      "variety 2 vs. new sample: 0.0000\n",
      "variety 3 vs. new sample: 0.0177\n",
      "\n",
      "Unpaired t-test (non-equal variance) for Alcohol\n",
      "variety 1 vs. new sample: 0.1635\n",
      "variety 2 vs. new sample: 0.0000\n",
      "variety 3 vs. new sample: 0.0258\n"
     ]
    }
   ],
   "source": [
    "ks_stats_1t2, ks_pvalue_1t2 = stats.ks_2samp(df_1['Alcohol'],df_test2['Alcohol'])\n",
    "ks_stats_2t2, ks_pvalue_2t2 = stats.ks_2samp(df_2['Alcohol'],df_test2['Alcohol'])\n",
    "ks_stats_3t2, ks_pvalue_3t2 = stats.ks_2samp(df_3['Alcohol'],df_test2['Alcohol'])\n",
    "\n",
    "print('')\n",
    "print('Kolmogorov-Smirnov test for Alcohol')\n",
    "print('variety 1 vs. new sample: %1.4f' % ks_pvalue_1t2)\n",
    "print('variety 2 vs. new sample: %1.4f' % ks_pvalue_2t2)\n",
    "print('variety 3 vs. new sample: %1.4f' % ks_pvalue_3t2)\n",
    "\n",
    "mwu_stats_1t2, mwu_pvalue_1t2 = stats.mannwhitneyu(df_1['Alcohol'],df_test2['Alcohol'])\n",
    "mwu_stats_2t2, mwu_pvalue_2t2 = stats.mannwhitneyu(df_2['Alcohol'],df_test2['Alcohol'])\n",
    "mwu_stats_3t2, mwu_pvalue_3t2 = stats.mannwhitneyu(df_3['Alcohol'],df_test2['Alcohol'])\n",
    "\n",
    "print('')\n",
    "print('Mann-Whitney U test for Alcohol')\n",
    "print('variety 1 vs. new sample: %1.4f' % mwu_pvalue_1t2)\n",
    "print('variety 2 vs. new sample: %1.4f' % mwu_pvalue_2t2)\n",
    "print('variety 3 vs. new sample: %1.4f' % mwu_pvalue_3t2)\n",
    "\n",
    "tt_stats_1t2, tt_pvalue_1t2 = stats.ttest_ind(df_1['Alcohol'],df_test2['Alcohol'],equal_var = False)\n",
    "tt_stats_2t2, tt_pvalue_2t2 = stats.ttest_ind(df_2['Alcohol'],df_test2['Alcohol'],equal_var = False)\n",
    "tt_stats_3t2, tt_pvalue_3t2 = stats.ttest_ind(df_3['Alcohol'],df_test2['Alcohol'],equal_var = False)\n",
    "\n",
    "print('')\n",
    "print('Unpaired t-test (non-equal variance) for Alcohol')\n",
    "print('variety 1 vs. new sample: %1.4f' % tt_pvalue_1t2)\n",
    "print('variety 2 vs. new sample: %1.4f' % tt_pvalue_2t2)\n",
    "print('variety 3 vs. new sample: %1.4f' % tt_pvalue_3t2)"
   ]
  },
  {
   "cell_type": "markdown",
   "metadata": {},
   "source": [
    "As expected, with all methods we do not see any significant difference between the new sample and the reference sample of variety 1. The comparison of the new sample with the reference sample of variety 2 looks fine, too. The results of comparison 3 (new sample vs. variety 3) surprise us, however. The hypothesis that we have wine of variety 3 can not be rejected on a significance level of 1% (with the Kolmogrorov-Smirnov test, even a significance level of 5% is not achieved).\n",
    "\n",
    "Although the statistical tests provide only weak evidence for a misdeclaration, nevertheless we are suspicious. We decide to make further laboratory analyzes. From our preliminary work we know that wine variety 1 has a particularly high proline content, so we also measure this variable. The scatterplot compares the new sample with the reference data."
   ]
  },
  {
   "cell_type": "code",
   "execution_count": 25,
   "metadata": {},
   "outputs": [
    {
     "data": {
      "image/png": "[encoded data removed]",
      "text/plain": [
       "<Figure size 432x288 with 1 Axes>"
      ]
     },
     "metadata": {
      "needs_background": "light"
     },
     "output_type": "display_data"
    }
   ],
   "source": [
    "plt.subplot()\n",
    "plt.scatter(df_1['Alcohol'], df_1['Proline'], c='darkblue', label='variety 1')\n",
    "plt.scatter(df_2['Alcohol'], df_2['Proline'], c='orange'  , label='variety 2')\n",
    "plt.scatter(df_3['Alcohol'], df_3['Proline'], c='green'   , label='variety 3')\n",
    "plt.scatter(df_test2['Alcohol'], df_test2['Proline'], c='red', edgecolor = 'black', marker = 'D', label='new sample')\n",
    "plt.xlabel('Alcohol')\n",
    "plt.ylabel('Proline')\n",
    "plt.legend()\n",
    "plt.savefig('scatter_alcoholproline.png', dpi = 600)\n",
    "plt.show()"
   ]
  },
  {
   "cell_type": "markdown",
   "metadata": {},
   "source": [
    "Now we are even more suspicious. We examine the whole new sample and find out that 5 test specimen belong not to variety 1, but to variety 3."
   ]
  },
  {
   "cell_type": "markdown",
   "metadata": {},
   "source": [
    "## Conclusion"
   ]
  },
  {
   "cell_type": "markdown",
   "metadata": {},
   "source": [
    "We have managed to optimize our analysis workflow by reducing the parameters required for testing to only one. The variabe Alcohol is in most cases sufficient to differentiate between the three wine varieties and proves to be robust for statistical testing."
   ]
  },
  {
   "cell_type": "code",
   "execution_count": null,
   "metadata": {},
   "outputs": [],
   "source": []
  }
 ],
 "metadata": {
  "kernelspec": {
   "display_name": "Python 3",
   "language": "python",
   "name": "python3"
  },
  "language_info": {
   "codemirror_mode": {
    "name": "ipython",
    "version": 3
   },
   "file_extension": ".py",
   "mimetype": "text/x-python",
   "name": "python",
   "nbconvert_exporter": "python",
   "pygments_lexer": "ipython3",
   "version": "3.7.3"
  }
 },
 "nbformat": 4,
 "nbformat_minor": 4
}
